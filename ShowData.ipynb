{
 "cells": [
  {
   "cell_type": "code",
   "execution_count": 6,
   "id": "a86f97fa",
   "metadata": {},
   "outputs": [
    {
     "name": "stdout",
     "output_type": "stream",
     "text": [
      "[Data(x=[16, 18], edge_index=[2, 36], edge_attr=[36, 4], y=[1, 1], data_index=0), Data(x=[12, 18], edge_index=[2, 22], edge_attr=[22, 4], y=[1, 1], data_index=1), Data(x=[13, 18], edge_index=[2, 28], edge_attr=[28, 4], y=[1, 1], data_index=2), Data(x=[25, 18], edge_index=[2, 52], edge_attr=[52, 4], y=[1, 1], data_index=3), Data(x=[18, 18], edge_index=[2, 38], edge_attr=[38, 4], y=[1, 1], data_index=4), Data(x=[20, 18], edge_index=[2, 42], edge_attr=[42, 4], y=[1, 1], data_index=5), Data(x=[12, 18], edge_index=[2, 24], edge_attr=[24, 4], y=[1, 1], data_index=6), Data(x=[11, 18], edge_index=[2, 22], edge_attr=[22, 4], y=[1, 1], data_index=7), Data(x=[12, 18], edge_index=[2, 22], edge_attr=[22, 4], y=[1, 1], data_index=8), Data(x=[5, 18], edge_index=[2, 8], edge_attr=[8, 4], y=[1, 1], data_index=9), Data(x=[29, 18], edge_index=[2, 56], edge_attr=[56, 4], y=[1, 1], data_index=10), Data(x=[12, 18], edge_index=[2, 24], edge_attr=[24, 4], y=[1, 1], data_index=11), Data(x=[25, 18], edge_index=[2, 54], edge_attr=[54, 4], y=[1, 1], data_index=12), Data(x=[19, 18], edge_index=[2, 36], edge_attr=[36, 4], y=[1, 1], data_index=13), Data(x=[7, 18], edge_index=[2, 14], edge_attr=[14, 4], y=[1, 1], data_index=14), Data(x=[24, 18], edge_index=[2, 52], edge_attr=[52, 4], y=[1, 1], data_index=15), Data(x=[10, 18], edge_index=[2, 20], edge_attr=[20, 4], y=[1, 1], data_index=16), Data(x=[9, 18], edge_index=[2, 18], edge_attr=[18, 4], y=[1, 1], data_index=17), Data(x=[33, 18], edge_index=[2, 72], edge_attr=[72, 4], y=[1, 1], data_index=18), Data(x=[52, 18], edge_index=[2, 114], edge_attr=[114, 4], y=[1, 1], data_index=19), Data(x=[16, 18], edge_index=[2, 34], edge_attr=[34, 4], y=[1, 1], data_index=20), Data(x=[11, 18], edge_index=[2, 20], edge_attr=[20, 4], y=[1, 1], data_index=21), Data(x=[8, 18], edge_index=[2, 14], edge_attr=[14, 4], y=[1, 1], data_index=22), Data(x=[22, 18], edge_index=[2, 50], edge_attr=[50, 4], y=[1, 1], data_index=23), Data(x=[13, 18], edge_index=[2, 24], edge_attr=[24, 4], y=[1, 1], data_index=24), Data(x=[23, 18], edge_index=[2, 48], edge_attr=[48, 4], y=[1, 1], data_index=25), Data(x=[6, 18], edge_index=[2, 10], edge_attr=[10, 4], y=[1, 1], data_index=26), Data(x=[12, 18], edge_index=[2, 22], edge_attr=[22, 4], y=[1, 1], data_index=27), Data(x=[13, 18], edge_index=[2, 26], edge_attr=[26, 4], y=[1, 1], data_index=28), Data(x=[10, 18], edge_index=[2, 20], edge_attr=[20, 4], y=[1, 1], data_index=29), Data(x=[10, 18], edge_index=[2, 20], edge_attr=[20, 4], y=[1, 1], data_index=30), Data(x=[10, 18], edge_index=[2, 20], edge_attr=[20, 4], y=[1, 1], data_index=31), Data(x=[29, 18], edge_index=[2, 62], edge_attr=[62, 4], y=[1, 1], data_index=32), Data(x=[17, 18], edge_index=[2, 34], edge_attr=[34, 4], y=[1, 1], data_index=33), Data(x=[19, 18], edge_index=[2, 40], edge_attr=[40, 4], y=[1, 1], data_index=34), Data(x=[6, 18], edge_index=[2, 12], edge_attr=[12, 4], y=[1, 1], data_index=35), Data(x=[22, 18], edge_index=[2, 52], edge_attr=[52, 4], y=[1, 1], data_index=36), Data(x=[18, 18], edge_index=[2, 40], edge_attr=[40, 4], y=[1, 1], data_index=37), Data(x=[11, 18], edge_index=[2, 26], edge_attr=[26, 4], y=[1, 1], data_index=38), Data(x=[9, 18], edge_index=[2, 18], edge_attr=[18, 4], y=[1, 1], data_index=39), Data(x=[3, 18], edge_index=[2, 4], edge_attr=[4, 4], y=[1, 1], data_index=40), Data(x=[16, 18], edge_index=[2, 34], edge_attr=[34, 4], y=[1, 1], data_index=41), Data(x=[14, 18], edge_index=[2, 30], edge_attr=[30, 4], y=[1, 1], data_index=42), Data(x=[11, 18], edge_index=[2, 22], edge_attr=[22, 4], y=[1, 1], data_index=43), Data(x=[20, 18], edge_index=[2, 42], edge_attr=[42, 4], y=[1, 1], data_index=44), Data(x=[9, 18], edge_index=[2, 18], edge_attr=[18, 4], y=[1, 1], data_index=45), Data(x=[26, 18], edge_index=[2, 50], edge_attr=[50, 4], y=[1, 1], data_index=46), Data(x=[17, 18], edge_index=[2, 36], edge_attr=[36, 4], y=[1, 1], data_index=47), Data(x=[16, 18], edge_index=[2, 32], edge_attr=[32, 4], y=[1, 1], data_index=48), Data(x=[20, 18], edge_index=[2, 44], edge_attr=[44, 4], y=[1, 1], data_index=49), Data(x=[17, 18], edge_index=[2, 38], edge_attr=[38, 4], y=[1, 1], data_index=50), Data(x=[17, 18], edge_index=[2, 36], edge_attr=[36, 4], y=[1, 1], data_index=51), Data(x=[10, 18], edge_index=[2, 20], edge_attr=[20, 4], y=[1, 1], data_index=52), Data(x=[20, 18], edge_index=[2, 42], edge_attr=[42, 4], y=[1, 1], data_index=53), Data(x=[16, 18], edge_index=[2, 36], edge_attr=[36, 4], y=[1, 1], data_index=54), Data(x=[24, 18], edge_index=[2, 54], edge_attr=[54, 4], y=[1, 1], data_index=55), Data(x=[6, 18], edge_index=[2, 12], edge_attr=[12, 4], y=[1, 1], data_index=56), Data(x=[20, 18], edge_index=[2, 44], edge_attr=[44, 4], y=[1, 1], data_index=57), Data(x=[11, 18], edge_index=[2, 22], edge_attr=[22, 4], y=[1, 1], data_index=58), Data(x=[5, 18], edge_index=[2, 8], edge_attr=[8, 4], y=[1, 1], data_index=59), Data(x=[11, 18], edge_index=[2, 20], edge_attr=[20, 4], y=[1, 1], data_index=60), Data(x=[50, 18], edge_index=[2, 98], edge_attr=[98, 4], y=[1, 1], data_index=61), Data(x=[16, 18], edge_index=[2, 34], edge_attr=[34, 4], y=[1, 1], data_index=62), Data(x=[22, 18], edge_index=[2, 46], edge_attr=[46, 4], y=[1, 1], data_index=63), Data(x=[16, 18], edge_index=[2, 36], edge_attr=[36, 4], y=[1, 1], data_index=64), Data(x=[11, 18], edge_index=[2, 22], edge_attr=[22, 4], y=[1, 1], data_index=65), Data(x=[21, 18], edge_index=[2, 44], edge_attr=[44, 4], y=[1, 1], data_index=66), Data(x=[8, 18], edge_index=[2, 16], edge_attr=[16, 4], y=[1, 1], data_index=67), Data(x=[8, 18], edge_index=[2, 16], edge_attr=[16, 4], y=[1, 1], data_index=68), Data(x=[51, 18], edge_index=[2, 112], edge_attr=[112, 4], y=[1, 1], data_index=69), Data(x=[11, 18], edge_index=[2, 22], edge_attr=[22, 4], y=[1, 1], data_index=70), Data(x=[17, 18], edge_index=[2, 36], edge_attr=[36, 4], y=[1, 1], data_index=71), Data(x=[29, 18], edge_index=[2, 66], edge_attr=[66, 4], y=[1, 1], data_index=72), Data(x=[16, 18], edge_index=[2, 32], edge_attr=[32, 4], y=[1, 1], data_index=73), Data(x=[33, 18], edge_index=[2, 72], edge_attr=[72, 4], y=[1, 1], data_index=74), Data(x=[12, 18], edge_index=[2, 22], edge_attr=[22, 4], y=[1, 1], data_index=75), Data(x=[22, 18], edge_index=[2, 46], edge_attr=[46, 4], y=[1, 1], data_index=76), Data(x=[11, 18], edge_index=[2, 24], edge_attr=[24, 4], y=[1, 1], data_index=77), Data(x=[8, 18], edge_index=[2, 16], edge_attr=[16, 4], y=[1, 1], data_index=78), Data(x=[12, 18], edge_index=[2, 24], edge_attr=[24, 4], y=[1, 1], data_index=79), Data(x=[4, 18], edge_index=[2, 6], edge_attr=[6, 4], y=[1, 1], data_index=80), Data(x=[19, 18], edge_index=[2, 40], edge_attr=[40, 4], y=[1, 1], data_index=81), Data(x=[4, 18], edge_index=[2, 6], edge_attr=[6, 4], y=[1, 1], data_index=82), Data(x=[4, 18], edge_index=[2, 6], edge_attr=[6, 4], y=[1, 1], data_index=83), Data(x=[17, 18], edge_index=[2, 36], edge_attr=[36, 4], y=[1, 1], data_index=84), Data(x=[5, 18], edge_index=[2, 8], edge_attr=[8, 4], y=[1, 1], data_index=85), Data(x=[19, 18], edge_index=[2, 46], edge_attr=[46, 4], y=[1, 1], data_index=86), Data(x=[9, 18], edge_index=[2, 16], edge_attr=[16, 4], y=[1, 1], data_index=87), Data(x=[6, 18], edge_index=[2, 10], edge_attr=[10, 4], y=[1, 1], data_index=88), Data(x=[18, 18], edge_index=[2, 36], edge_attr=[36, 4], y=[1, 1], data_index=89), Data(x=[4, 18], edge_index=[2, 6], edge_attr=[6, 4], y=[1, 1], data_index=90), Data(x=[5, 18], edge_index=[2, 8], edge_attr=[8, 4], y=[1, 1], data_index=91), Data(x=[44, 18], edge_index=[2, 98], edge_attr=[98, 4], y=[1, 1], data_index=92), Data(x=[14, 18], edge_index=[2, 28], edge_attr=[28, 4], y=[1, 1], data_index=93), Data(x=[10, 18], edge_index=[2, 20], edge_attr=[20, 4], y=[1, 1], data_index=94), Data(x=[10, 18], edge_index=[2, 20], edge_attr=[20, 4], y=[1, 1], data_index=95), Data(x=[11, 18], edge_index=[2, 20], edge_attr=[20, 4], y=[1, 1], data_index=96), Data(x=[12, 18], edge_index=[2, 24], edge_attr=[24, 4], y=[1, 1], data_index=97), Data(x=[5, 18], edge_index=[2, 8], edge_attr=[8, 4], y=[1, 1], data_index=98), Data(x=[15, 18], edge_index=[2, 30], edge_attr=[30, 4], y=[1, 1], data_index=99), Data(x=[32, 18], edge_index=[2, 70], edge_attr=[70, 4], y=[1, 1], data_index=100), Data(x=[44, 18], edge_index=[2, 94], edge_attr=[94, 4], y=[1, 1], data_index=101), Data(x=[23, 18], edge_index=[2, 46], edge_attr=[46, 4], y=[1, 1], data_index=102), Data(x=[17, 18], edge_index=[2, 36], edge_attr=[36, 4], y=[1, 1], data_index=103), Data(x=[10, 18], edge_index=[2, 20], edge_attr=[20, 4], y=[1, 1], data_index=104), Data(x=[18, 18], edge_index=[2, 36], edge_attr=[36, 4], y=[1, 1], data_index=105), Data(x=[13, 18], edge_index=[2, 26], edge_attr=[26, 4], y=[1, 1], data_index=106), Data(x=[7, 18], edge_index=[2, 12], edge_attr=[12, 4], y=[1, 1], data_index=107), Data(x=[6, 18], edge_index=[2, 10], edge_attr=[10, 4], y=[1, 1], data_index=108), Data(x=[19, 18], edge_index=[2, 40], edge_attr=[40, 4], y=[1, 1], data_index=109), Data(x=[31, 18], edge_index=[2, 66], edge_attr=[66, 4], y=[1, 1], data_index=110), Data(x=[18, 18], edge_index=[2, 38], edge_attr=[38, 4], y=[1, 1], data_index=111), Data(x=[19, 18], edge_index=[2, 38], edge_attr=[38, 4], y=[1, 1], data_index=112), Data(x=[10, 18], edge_index=[2, 24], edge_attr=[24, 4], y=[1, 1], data_index=113), Data(x=[11, 18], edge_index=[2, 22], edge_attr=[22, 4], y=[1, 1], data_index=114), Data(x=[12, 18], edge_index=[2, 24], edge_attr=[24, 4], y=[1, 1], data_index=115), Data(x=[13, 18], edge_index=[2, 26], edge_attr=[26, 4], y=[1, 1], data_index=116), Data(x=[5, 18], edge_index=[2, 8], edge_attr=[8, 4], y=[1, 1], data_index=117), Data(x=[19, 18], edge_index=[2, 42], edge_attr=[42, 4], y=[1, 1], data_index=118), Data(x=[7, 18], edge_index=[2, 12], edge_attr=[12, 4], y=[1, 1], data_index=119), Data(x=[4, 18], edge_index=[2, 6], edge_attr=[6, 4], y=[1, 1], data_index=120), Data(x=[19, 18], edge_index=[2, 40], edge_attr=[40, 4], y=[1, 1], data_index=121), Data(x=[18, 18], edge_index=[2, 40], edge_attr=[40, 4], y=[1, 1], data_index=122), Data(x=[28, 18], edge_index=[2, 60], edge_attr=[60, 4], y=[1, 1], data_index=123), Data(x=[6, 18], edge_index=[2, 12], edge_attr=[12, 4], y=[1, 1], data_index=124), Data(x=[7, 18], edge_index=[2, 12], edge_attr=[12, 4], y=[1, 1], data_index=125), Data(x=[8, 18], edge_index=[2, 16], edge_attr=[16, 4], y=[1, 1], data_index=126), Data(x=[17, 18], edge_index=[2, 32], edge_attr=[32, 4], y=[1, 1], data_index=127), Data(x=[8, 18], edge_index=[2, 16], edge_attr=[16, 4], y=[1, 1], data_index=128), Data(x=[17, 18], edge_index=[2, 34], edge_attr=[34, 4], y=[1, 1], data_index=129), Data(x=[17, 18], edge_index=[2, 34], edge_attr=[34, 4], y=[1, 1], data_index=130), Data(x=[15, 18], edge_index=[2, 32], edge_attr=[32, 4], y=[1, 1], data_index=131), Data(x=[19, 18], edge_index=[2, 36], edge_attr=[36, 4], y=[1, 1], data_index=132), Data(x=[11, 18], edge_index=[2, 22], edge_attr=[22, 4], y=[1, 1], data_index=133), Data(x=[22, 18], edge_index=[2, 48], edge_attr=[48, 4], y=[1, 1], data_index=134), Data(x=[12, 18], edge_index=[2, 24], edge_attr=[24, 4], y=[1, 1], data_index=135), Data(x=[6, 18], edge_index=[2, 12], edge_attr=[12, 4], y=[1, 1], data_index=136), Data(x=[28, 18], edge_index=[2, 56], edge_attr=[56, 4], y=[1, 1], data_index=137), Data(x=[16, 18], edge_index=[2, 30], edge_attr=[30, 4], y=[1, 1], data_index=138), Data(x=[23, 18], edge_index=[2, 50], edge_attr=[50, 4], y=[1, 1], data_index=139), Data(x=[13, 18], edge_index=[2, 24], edge_attr=[24, 4], y=[1, 1], data_index=140), Data(x=[6, 18], edge_index=[2, 12], edge_attr=[12, 4], y=[1, 1], data_index=141), Data(x=[3, 18], edge_index=[2, 4], edge_attr=[4, 4], y=[1, 1], data_index=142), Data(x=[10, 18], edge_index=[2, 20], edge_attr=[20, 4], y=[1, 1], data_index=143), Data(x=[5, 18], edge_index=[2, 8], edge_attr=[8, 4], y=[1, 1], data_index=144), Data(x=[7, 18], edge_index=[2, 14], edge_attr=[14, 4], y=[1, 1], data_index=145), Data(x=[8, 18], edge_index=[2, 16], edge_attr=[16, 4], y=[1, 1], data_index=146), Data(x=[16, 18], edge_index=[2, 34], edge_attr=[34, 4], y=[1, 1], data_index=147), Data(x=[5, 18], edge_index=[2, 10], edge_attr=[10, 4], y=[1, 1], data_index=148), Data(x=[7, 18], edge_index=[2, 14], edge_attr=[14, 4], y=[1, 1], data_index=149), Data(x=[6, 18], edge_index=[2, 10], edge_attr=[10, 4], y=[1, 1], data_index=150), Data(x=[11, 18], edge_index=[2, 22], edge_attr=[22, 4], y=[1, 1], data_index=151), Data(x=[13, 18], edge_index=[2, 26], edge_attr=[26, 4], y=[1, 1], data_index=152), Data(x=[19, 18], edge_index=[2, 42], edge_attr=[42, 4], y=[1, 1], data_index=153), Data(x=[6, 18], edge_index=[2, 10], edge_attr=[10, 4], y=[1, 1], data_index=154), Data(x=[21, 18], edge_index=[2, 50], edge_attr=[50, 4], y=[1, 1], data_index=155), Data(x=[7, 18], edge_index=[2, 14], edge_attr=[14, 4], y=[1, 1], data_index=156), Data(x=[24, 18], edge_index=[2, 46], edge_attr=[46, 4], y=[1, 1], data_index=157), Data(x=[7, 18], edge_index=[2, 14], edge_attr=[14, 4], y=[1, 1], data_index=158), Data(x=[23, 18], edge_index=[2, 48], edge_attr=[48, 4], y=[1, 1], data_index=159), Data(x=[16, 18], edge_index=[2, 32], edge_attr=[32, 4], y=[1, 1], data_index=160), Data(x=[6, 18], edge_index=[2, 10], edge_attr=[10, 4], y=[1, 1], data_index=161), Data(x=[17, 18], edge_index=[2, 38], edge_attr=[38, 4], y=[1, 1], data_index=162), Data(x=[9, 18], edge_index=[2, 18], edge_attr=[18, 4], y=[1, 1], data_index=163), Data(x=[19, 18], edge_index=[2, 38], edge_attr=[38, 4], y=[1, 1], data_index=164), Data(x=[16, 18], edge_index=[2, 32], edge_attr=[32, 4], y=[1, 1], data_index=165), Data(x=[19, 18], edge_index=[2, 42], edge_attr=[42, 4], y=[1, 1], data_index=166), Data(x=[20, 18], edge_index=[2, 44], edge_attr=[44, 4], y=[1, 1], data_index=167), Data(x=[18, 18], edge_index=[2, 34], edge_attr=[34, 4], y=[1, 1], data_index=168), Data(x=[13, 18], edge_index=[2, 26], edge_attr=[26, 4], y=[1, 1], data_index=169), Data(x=[12, 18], edge_index=[2, 26], edge_attr=[26, 4], y=[1, 1], data_index=170), Data(x=[9, 18], edge_index=[2, 18], edge_attr=[18, 4], y=[1, 1], data_index=171), Data(x=[9, 18], edge_index=[2, 18], edge_attr=[18, 4], y=[1, 1], data_index=172), Data(x=[5, 18], edge_index=[2, 8], edge_attr=[8, 4], y=[1, 1], data_index=173), Data(x=[17, 18], edge_index=[2, 36], edge_attr=[36, 4], y=[1, 1], data_index=174), Data(x=[14, 18], edge_index=[2, 28], edge_attr=[28, 4], y=[1, 1], data_index=175), Data(x=[7, 18], edge_index=[2, 14], edge_attr=[14, 4], y=[1, 1], data_index=176), Data(x=[5, 18], edge_index=[2, 8], edge_attr=[8, 4], y=[1, 1], data_index=177), Data(x=[19, 18], edge_index=[2, 38], edge_attr=[38, 4], y=[1, 1], data_index=178), Data(x=[11, 18], edge_index=[2, 22], edge_attr=[22, 4], y=[1, 1], data_index=179), Data(x=[7, 18], edge_index=[2, 12], edge_attr=[12, 4], y=[1, 1], data_index=180), Data(x=[26, 18], edge_index=[2, 62], edge_attr=[62, 4], y=[1, 1], data_index=181), Data(x=[18, 18], edge_index=[2, 36], edge_attr=[36, 4], y=[1, 1], data_index=182), Data(x=[6, 18], edge_index=[2, 10], edge_attr=[10, 4], y=[1, 1], data_index=183), Data(x=[12, 18], edge_index=[2, 26], edge_attr=[26, 4], y=[1, 1], data_index=184), Data(x=[8, 18], edge_index=[2, 16], edge_attr=[16, 4], y=[1, 1], data_index=185), Data(x=[23, 18], edge_index=[2, 50], edge_attr=[50, 4], y=[1, 1], data_index=186), Data(x=[16, 18], edge_index=[2, 34], edge_attr=[34, 4], y=[1, 1], data_index=187)]\n"
     ]
    }
   ],
   "source": [
    "import torch\n",
    "image = torch.load(r'../FederatedScope\\data\\CIKM22Competition\\5\\train.pt')\n",
    "print(image)\n"
   ]
  },
  {
   "cell_type": "code",
   "execution_count": 4,
   "id": "8053fea5",
   "metadata": {},
   "outputs": [
    {
     "name": "stdout",
     "output_type": "stream",
     "text": [
      "tensor([[[[0.2226, 0.2324, 0.0000, 0.0000],\n",
      "          [0.0000, 1.0693, 0.0000, 0.7738],\n",
      "          [0.5942, 2.2928, 0.3263, 0.0000],\n",
      "          [0.0422, 0.9560, 0.0000, 0.0000]],\n",
      "\n",
      "         [[0.7467, 0.0000, 0.0000, 1.4517],\n",
      "          [0.0000, 0.4813, 0.5407, 0.7769],\n",
      "          [0.0000, 0.4106, 0.0000, 0.6915],\n",
      "          [0.0000, 1.7304, 0.2855, 0.0000]],\n",
      "\n",
      "         [[0.0000, 0.0000, 0.2396, 1.6706],\n",
      "          [1.1474, 0.0000, 0.0000, 0.0000],\n",
      "          [0.8479, 0.0000, 0.0000, 0.5196],\n",
      "          [0.7260, 0.0000, 0.4180, 1.0306]],\n",
      "\n",
      "         [[0.0000, 0.0000, 0.0000, 0.0000],\n",
      "          [0.1991, 1.1163, 0.0000, 2.0429],\n",
      "          [0.0000, 0.1886, 0.0000, 1.8284],\n",
      "          [0.0000, 0.7559, 0.0000, 0.0905]],\n",
      "\n",
      "         [[0.0000, 0.4404, 0.1011, 0.1704],\n",
      "          [0.0000, 0.3317, 1.3283, 0.1055],\n",
      "          [0.0000, 0.0000, 1.4292, 0.8468],\n",
      "          [0.0000, 1.5779, 0.0000, 0.0000]],\n",
      "\n",
      "         [[0.0033, 0.3319, 1.5667, 0.3547],\n",
      "          [0.7742, 0.0000, 0.0000, 0.2630],\n",
      "          [1.8856, 0.0000, 0.0000, 0.0000],\n",
      "          [0.0000, 0.3901, 1.0760, 0.0000]],\n",
      "\n",
      "         [[0.0000, 0.0000, 0.8769, 0.0000],\n",
      "          [0.2231, 1.4225, 0.0690, 0.5788],\n",
      "          [0.0000, 0.0000, 0.2054, 0.1595],\n",
      "          [0.0000, 1.7736, 0.0000, 0.8815]],\n",
      "\n",
      "         [[0.0000, 1.8761, 0.4633, 0.0000],\n",
      "          [0.0000, 0.0000, 1.6225, 0.0000],\n",
      "          [1.0623, 0.0000, 0.0000, 0.0000],\n",
      "          [0.0000, 0.0000, 1.3324, 0.3432]],\n",
      "\n",
      "         [[0.0000, 0.0000, 1.4258, 0.5913],\n",
      "          [0.0000, 0.6265, 0.7330, 0.0000],\n",
      "          [0.3224, 0.3458, 1.0499, 0.0000],\n",
      "          [1.0805, 0.7436, 0.0000, 0.0000]],\n",
      "\n",
      "         [[0.0000, 1.8082, 0.0000, 0.0371],\n",
      "          [0.0000, 0.0000, 0.0000, 0.0000],\n",
      "          [0.0000, 0.5742, 0.0000, 0.2802],\n",
      "          [0.9529, 1.1455, 0.0000, 1.5199]]]], grad_fn=<ReluBackward0>)\n"
     ]
    },
    {
     "ename": "ExecutableNotFound",
     "evalue": "failed to execute WindowsPath('dot'), make sure the Graphviz executables are on your systems' PATH",
     "output_type": "error",
     "traceback": [
      "\u001b[1;31m---------------------------------------------------------------------------\u001b[0m",
      "\u001b[1;31mFileNotFoundError\u001b[0m                         Traceback (most recent call last)",
      "File \u001b[1;32mD:\\Anaconda3\\envs\\fsc\\lib\\site-packages\\graphviz\\backend\\execute.py:81\u001b[0m, in \u001b[0;36mrun_check\u001b[1;34m(cmd, input_lines, encoding, quiet, **kwargs)\u001b[0m\n\u001b[0;32m     80\u001b[0m     \u001b[38;5;28;01melse\u001b[39;00m:\n\u001b[1;32m---> 81\u001b[0m         proc \u001b[38;5;241m=\u001b[39m subprocess\u001b[38;5;241m.\u001b[39mrun(cmd, \u001b[38;5;241m*\u001b[39m\u001b[38;5;241m*\u001b[39mkwargs)\n\u001b[0;32m     82\u001b[0m \u001b[38;5;28;01mexcept\u001b[39;00m \u001b[38;5;167;01mOSError\u001b[39;00m \u001b[38;5;28;01mas\u001b[39;00m e:\n",
      "File \u001b[1;32mD:\\Anaconda3\\envs\\fsc\\lib\\subprocess.py:501\u001b[0m, in \u001b[0;36mrun\u001b[1;34m(input, capture_output, timeout, check, *popenargs, **kwargs)\u001b[0m\n\u001b[0;32m    499\u001b[0m     kwargs[\u001b[38;5;124m'\u001b[39m\u001b[38;5;124mstderr\u001b[39m\u001b[38;5;124m'\u001b[39m] \u001b[38;5;241m=\u001b[39m PIPE\n\u001b[1;32m--> 501\u001b[0m \u001b[38;5;28;01mwith\u001b[39;00m Popen(\u001b[38;5;241m*\u001b[39mpopenargs, \u001b[38;5;241m*\u001b[39m\u001b[38;5;241m*\u001b[39mkwargs) \u001b[38;5;28;01mas\u001b[39;00m process:\n\u001b[0;32m    502\u001b[0m     \u001b[38;5;28;01mtry\u001b[39;00m:\n",
      "File \u001b[1;32mD:\\Anaconda3\\envs\\fsc\\lib\\subprocess.py:947\u001b[0m, in \u001b[0;36mPopen.__init__\u001b[1;34m(self, args, bufsize, executable, stdin, stdout, stderr, preexec_fn, close_fds, shell, cwd, env, universal_newlines, startupinfo, creationflags, restore_signals, start_new_session, pass_fds, user, group, extra_groups, encoding, errors, text, umask)\u001b[0m\n\u001b[0;32m    944\u001b[0m             \u001b[38;5;28mself\u001b[39m\u001b[38;5;241m.\u001b[39mstderr \u001b[38;5;241m=\u001b[39m io\u001b[38;5;241m.\u001b[39mTextIOWrapper(\u001b[38;5;28mself\u001b[39m\u001b[38;5;241m.\u001b[39mstderr,\n\u001b[0;32m    945\u001b[0m                     encoding\u001b[38;5;241m=\u001b[39mencoding, errors\u001b[38;5;241m=\u001b[39merrors)\n\u001b[1;32m--> 947\u001b[0m     \u001b[38;5;28;43mself\u001b[39;49m\u001b[38;5;241;43m.\u001b[39;49m\u001b[43m_execute_child\u001b[49m\u001b[43m(\u001b[49m\u001b[43margs\u001b[49m\u001b[43m,\u001b[49m\u001b[43m \u001b[49m\u001b[43mexecutable\u001b[49m\u001b[43m,\u001b[49m\u001b[43m \u001b[49m\u001b[43mpreexec_fn\u001b[49m\u001b[43m,\u001b[49m\u001b[43m \u001b[49m\u001b[43mclose_fds\u001b[49m\u001b[43m,\u001b[49m\n\u001b[0;32m    948\u001b[0m \u001b[43m                        \u001b[49m\u001b[43mpass_fds\u001b[49m\u001b[43m,\u001b[49m\u001b[43m \u001b[49m\u001b[43mcwd\u001b[49m\u001b[43m,\u001b[49m\u001b[43m \u001b[49m\u001b[43menv\u001b[49m\u001b[43m,\u001b[49m\n\u001b[0;32m    949\u001b[0m \u001b[43m                        \u001b[49m\u001b[43mstartupinfo\u001b[49m\u001b[43m,\u001b[49m\u001b[43m \u001b[49m\u001b[43mcreationflags\u001b[49m\u001b[43m,\u001b[49m\u001b[43m \u001b[49m\u001b[43mshell\u001b[49m\u001b[43m,\u001b[49m\n\u001b[0;32m    950\u001b[0m \u001b[43m                        \u001b[49m\u001b[43mp2cread\u001b[49m\u001b[43m,\u001b[49m\u001b[43m \u001b[49m\u001b[43mp2cwrite\u001b[49m\u001b[43m,\u001b[49m\n\u001b[0;32m    951\u001b[0m \u001b[43m                        \u001b[49m\u001b[43mc2pread\u001b[49m\u001b[43m,\u001b[49m\u001b[43m \u001b[49m\u001b[43mc2pwrite\u001b[49m\u001b[43m,\u001b[49m\n\u001b[0;32m    952\u001b[0m \u001b[43m                        \u001b[49m\u001b[43merrread\u001b[49m\u001b[43m,\u001b[49m\u001b[43m \u001b[49m\u001b[43merrwrite\u001b[49m\u001b[43m,\u001b[49m\n\u001b[0;32m    953\u001b[0m \u001b[43m                        \u001b[49m\u001b[43mrestore_signals\u001b[49m\u001b[43m,\u001b[49m\n\u001b[0;32m    954\u001b[0m \u001b[43m                        \u001b[49m\u001b[43mgid\u001b[49m\u001b[43m,\u001b[49m\u001b[43m \u001b[49m\u001b[43mgids\u001b[49m\u001b[43m,\u001b[49m\u001b[43m \u001b[49m\u001b[43muid\u001b[49m\u001b[43m,\u001b[49m\u001b[43m \u001b[49m\u001b[43mumask\u001b[49m\u001b[43m,\u001b[49m\n\u001b[0;32m    955\u001b[0m \u001b[43m                        \u001b[49m\u001b[43mstart_new_session\u001b[49m\u001b[43m)\u001b[49m\n\u001b[0;32m    956\u001b[0m \u001b[38;5;28;01mexcept\u001b[39;00m:\n\u001b[0;32m    957\u001b[0m     \u001b[38;5;66;03m# Cleanup if the child failed starting.\u001b[39;00m\n",
      "File \u001b[1;32mD:\\Anaconda3\\envs\\fsc\\lib\\subprocess.py:1416\u001b[0m, in \u001b[0;36mPopen._execute_child\u001b[1;34m(self, args, executable, preexec_fn, close_fds, pass_fds, cwd, env, startupinfo, creationflags, shell, p2cread, p2cwrite, c2pread, c2pwrite, errread, errwrite, unused_restore_signals, unused_gid, unused_gids, unused_uid, unused_umask, unused_start_new_session)\u001b[0m\n\u001b[0;32m   1415\u001b[0m \u001b[38;5;28;01mtry\u001b[39;00m:\n\u001b[1;32m-> 1416\u001b[0m     hp, ht, pid, tid \u001b[38;5;241m=\u001b[39m \u001b[43m_winapi\u001b[49m\u001b[38;5;241;43m.\u001b[39;49m\u001b[43mCreateProcess\u001b[49m\u001b[43m(\u001b[49m\u001b[43mexecutable\u001b[49m\u001b[43m,\u001b[49m\u001b[43m \u001b[49m\u001b[43margs\u001b[49m\u001b[43m,\u001b[49m\n\u001b[0;32m   1417\u001b[0m \u001b[43m                             \u001b[49m\u001b[38;5;66;43;03m# no special security\u001b[39;49;00m\n\u001b[0;32m   1418\u001b[0m \u001b[43m                             \u001b[49m\u001b[38;5;28;43;01mNone\u001b[39;49;00m\u001b[43m,\u001b[49m\u001b[43m \u001b[49m\u001b[38;5;28;43;01mNone\u001b[39;49;00m\u001b[43m,\u001b[49m\n\u001b[0;32m   1419\u001b[0m \u001b[43m                             \u001b[49m\u001b[38;5;28;43mint\u001b[39;49m\u001b[43m(\u001b[49m\u001b[38;5;129;43;01mnot\u001b[39;49;00m\u001b[43m \u001b[49m\u001b[43mclose_fds\u001b[49m\u001b[43m)\u001b[49m\u001b[43m,\u001b[49m\n\u001b[0;32m   1420\u001b[0m \u001b[43m                             \u001b[49m\u001b[43mcreationflags\u001b[49m\u001b[43m,\u001b[49m\n\u001b[0;32m   1421\u001b[0m \u001b[43m                             \u001b[49m\u001b[43menv\u001b[49m\u001b[43m,\u001b[49m\n\u001b[0;32m   1422\u001b[0m \u001b[43m                             \u001b[49m\u001b[43mcwd\u001b[49m\u001b[43m,\u001b[49m\n\u001b[0;32m   1423\u001b[0m \u001b[43m                             \u001b[49m\u001b[43mstartupinfo\u001b[49m\u001b[43m)\u001b[49m\n\u001b[0;32m   1424\u001b[0m \u001b[38;5;28;01mfinally\u001b[39;00m:\n\u001b[0;32m   1425\u001b[0m     \u001b[38;5;66;03m# Child is launched. Close the parent's copy of those pipe\u001b[39;00m\n\u001b[0;32m   1426\u001b[0m     \u001b[38;5;66;03m# handles that only the child should have open.  You need\u001b[39;00m\n\u001b[1;32m   (...)\u001b[0m\n\u001b[0;32m   1429\u001b[0m     \u001b[38;5;66;03m# pipe will not close when the child process exits and the\u001b[39;00m\n\u001b[0;32m   1430\u001b[0m     \u001b[38;5;66;03m# ReadFile will hang.\u001b[39;00m\n",
      "\u001b[1;31mFileNotFoundError\u001b[0m: [WinError 2] 系统找不到指定的文件。",
      "\nThe above exception was the direct cause of the following exception:\n",
      "\u001b[1;31mExecutableNotFound\u001b[0m                        Traceback (most recent call last)",
      "Input \u001b[1;32mIn [4]\u001b[0m, in \u001b[0;36m<cell line: 36>\u001b[1;34m()\u001b[0m\n\u001b[0;32m     53\u001b[0m out \u001b[38;5;241m=\u001b[39m modelviz(sampledata)\n\u001b[0;32m     54\u001b[0m g \u001b[38;5;241m=\u001b[39m make_dot(out)\n\u001b[1;32m---> 55\u001b[0m \u001b[43mg\u001b[49m\u001b[38;5;241;43m.\u001b[39;49m\u001b[43mrender\u001b[49m\u001b[43m(\u001b[49m\u001b[38;5;124;43m'\u001b[39;49m\u001b[38;5;124;43mmodelviz\u001b[39;49m\u001b[38;5;124;43m'\u001b[39;49m\u001b[43m,\u001b[49m\u001b[43m \u001b[49m\u001b[43mview\u001b[49m\u001b[38;5;241;43m=\u001b[39;49m\u001b[38;5;28;43;01mFalse\u001b[39;49;00m\u001b[43m)\u001b[49m\n",
      "File \u001b[1;32mD:\\Anaconda3\\envs\\fsc\\lib\\site-packages\\graphviz\\_tools.py:171\u001b[0m, in \u001b[0;36mdeprecate_positional_args.<locals>.decorator.<locals>.wrapper\u001b[1;34m(*args, **kwargs)\u001b[0m\n\u001b[0;32m    162\u001b[0m     wanted \u001b[38;5;241m=\u001b[39m \u001b[38;5;124m'\u001b[39m\u001b[38;5;124m, \u001b[39m\u001b[38;5;124m'\u001b[39m\u001b[38;5;241m.\u001b[39mjoin(\u001b[38;5;124mf\u001b[39m\u001b[38;5;124m'\u001b[39m\u001b[38;5;132;01m{\u001b[39;00mname\u001b[38;5;132;01m}\u001b[39;00m\u001b[38;5;124m=\u001b[39m\u001b[38;5;132;01m{\u001b[39;00mvalue\u001b[38;5;132;01m!r}\u001b[39;00m\u001b[38;5;124m'\u001b[39m\n\u001b[0;32m    163\u001b[0m                        \u001b[38;5;28;01mfor\u001b[39;00m name, value \u001b[38;5;129;01min\u001b[39;00m deprecated\u001b[38;5;241m.\u001b[39mitems())\n\u001b[0;32m    164\u001b[0m     warnings\u001b[38;5;241m.\u001b[39mwarn(\u001b[38;5;124mf\u001b[39m\u001b[38;5;124m'\u001b[39m\u001b[38;5;124mThe signature of \u001b[39m\u001b[38;5;132;01m{\u001b[39;00mfunc\u001b[38;5;241m.\u001b[39m\u001b[38;5;18m__name__\u001b[39m\u001b[38;5;132;01m}\u001b[39;00m\u001b[38;5;124m will be reduced\u001b[39m\u001b[38;5;124m'\u001b[39m\n\u001b[0;32m    165\u001b[0m                   \u001b[38;5;124mf\u001b[39m\u001b[38;5;124m'\u001b[39m\u001b[38;5;124m to \u001b[39m\u001b[38;5;132;01m{\u001b[39;00msupported_number\u001b[38;5;132;01m}\u001b[39;00m\u001b[38;5;124m positional args\u001b[39m\u001b[38;5;124m'\u001b[39m\n\u001b[0;32m    166\u001b[0m                   \u001b[38;5;124mf\u001b[39m\u001b[38;5;124m'\u001b[39m\u001b[38;5;124m \u001b[39m\u001b[38;5;132;01m{\u001b[39;00m\u001b[38;5;28mlist\u001b[39m(supported)\u001b[38;5;132;01m}\u001b[39;00m\u001b[38;5;124m: pass \u001b[39m\u001b[38;5;132;01m{\u001b[39;00mwanted\u001b[38;5;132;01m}\u001b[39;00m\u001b[38;5;124m'\u001b[39m\n\u001b[0;32m    167\u001b[0m                   \u001b[38;5;124m'\u001b[39m\u001b[38;5;124m as keyword arg(s)\u001b[39m\u001b[38;5;124m'\u001b[39m,\n\u001b[0;32m    168\u001b[0m                   stacklevel\u001b[38;5;241m=\u001b[39mstacklevel,\n\u001b[0;32m    169\u001b[0m                   category\u001b[38;5;241m=\u001b[39mcategory)\n\u001b[1;32m--> 171\u001b[0m \u001b[38;5;28;01mreturn\u001b[39;00m func(\u001b[38;5;241m*\u001b[39margs, \u001b[38;5;241m*\u001b[39m\u001b[38;5;241m*\u001b[39mkwargs)\n",
      "File \u001b[1;32mD:\\Anaconda3\\envs\\fsc\\lib\\site-packages\\graphviz\\rendering.py:122\u001b[0m, in \u001b[0;36mRender.render\u001b[1;34m(self, filename, directory, view, cleanup, format, renderer, formatter, neato_no_op, quiet, quiet_view, outfile, engine, raise_if_result_exists, overwrite_source)\u001b[0m\n\u001b[0;32m    118\u001b[0m filepath \u001b[38;5;241m=\u001b[39m \u001b[38;5;28mself\u001b[39m\u001b[38;5;241m.\u001b[39msave(filename, directory\u001b[38;5;241m=\u001b[39mdirectory, skip_existing\u001b[38;5;241m=\u001b[39m\u001b[38;5;28;01mNone\u001b[39;00m)\n\u001b[0;32m    120\u001b[0m args\u001b[38;5;241m.\u001b[39mappend(filepath)\n\u001b[1;32m--> 122\u001b[0m rendered \u001b[38;5;241m=\u001b[39m \u001b[38;5;28mself\u001b[39m\u001b[38;5;241m.\u001b[39m_render(\u001b[38;5;241m*\u001b[39margs, \u001b[38;5;241m*\u001b[39m\u001b[38;5;241m*\u001b[39mkwargs)\n\u001b[0;32m    124\u001b[0m \u001b[38;5;28;01mif\u001b[39;00m cleanup:\n\u001b[0;32m    125\u001b[0m     log\u001b[38;5;241m.\u001b[39mdebug(\u001b[38;5;124m'\u001b[39m\u001b[38;5;124mdelete \u001b[39m\u001b[38;5;132;01m%r\u001b[39;00m\u001b[38;5;124m'\u001b[39m, filepath)\n",
      "File \u001b[1;32mD:\\Anaconda3\\envs\\fsc\\lib\\site-packages\\graphviz\\_tools.py:171\u001b[0m, in \u001b[0;36mdeprecate_positional_args.<locals>.decorator.<locals>.wrapper\u001b[1;34m(*args, **kwargs)\u001b[0m\n\u001b[0;32m    162\u001b[0m     wanted \u001b[38;5;241m=\u001b[39m \u001b[38;5;124m'\u001b[39m\u001b[38;5;124m, \u001b[39m\u001b[38;5;124m'\u001b[39m\u001b[38;5;241m.\u001b[39mjoin(\u001b[38;5;124mf\u001b[39m\u001b[38;5;124m'\u001b[39m\u001b[38;5;132;01m{\u001b[39;00mname\u001b[38;5;132;01m}\u001b[39;00m\u001b[38;5;124m=\u001b[39m\u001b[38;5;132;01m{\u001b[39;00mvalue\u001b[38;5;132;01m!r}\u001b[39;00m\u001b[38;5;124m'\u001b[39m\n\u001b[0;32m    163\u001b[0m                        \u001b[38;5;28;01mfor\u001b[39;00m name, value \u001b[38;5;129;01min\u001b[39;00m deprecated\u001b[38;5;241m.\u001b[39mitems())\n\u001b[0;32m    164\u001b[0m     warnings\u001b[38;5;241m.\u001b[39mwarn(\u001b[38;5;124mf\u001b[39m\u001b[38;5;124m'\u001b[39m\u001b[38;5;124mThe signature of \u001b[39m\u001b[38;5;132;01m{\u001b[39;00mfunc\u001b[38;5;241m.\u001b[39m\u001b[38;5;18m__name__\u001b[39m\u001b[38;5;132;01m}\u001b[39;00m\u001b[38;5;124m will be reduced\u001b[39m\u001b[38;5;124m'\u001b[39m\n\u001b[0;32m    165\u001b[0m                   \u001b[38;5;124mf\u001b[39m\u001b[38;5;124m'\u001b[39m\u001b[38;5;124m to \u001b[39m\u001b[38;5;132;01m{\u001b[39;00msupported_number\u001b[38;5;132;01m}\u001b[39;00m\u001b[38;5;124m positional args\u001b[39m\u001b[38;5;124m'\u001b[39m\n\u001b[0;32m    166\u001b[0m                   \u001b[38;5;124mf\u001b[39m\u001b[38;5;124m'\u001b[39m\u001b[38;5;124m \u001b[39m\u001b[38;5;132;01m{\u001b[39;00m\u001b[38;5;28mlist\u001b[39m(supported)\u001b[38;5;132;01m}\u001b[39;00m\u001b[38;5;124m: pass \u001b[39m\u001b[38;5;132;01m{\u001b[39;00mwanted\u001b[38;5;132;01m}\u001b[39;00m\u001b[38;5;124m'\u001b[39m\n\u001b[0;32m    167\u001b[0m                   \u001b[38;5;124m'\u001b[39m\u001b[38;5;124m as keyword arg(s)\u001b[39m\u001b[38;5;124m'\u001b[39m,\n\u001b[0;32m    168\u001b[0m                   stacklevel\u001b[38;5;241m=\u001b[39mstacklevel,\n\u001b[0;32m    169\u001b[0m                   category\u001b[38;5;241m=\u001b[39mcategory)\n\u001b[1;32m--> 171\u001b[0m \u001b[38;5;28;01mreturn\u001b[39;00m func(\u001b[38;5;241m*\u001b[39margs, \u001b[38;5;241m*\u001b[39m\u001b[38;5;241m*\u001b[39mkwargs)\n",
      "File \u001b[1;32mD:\\Anaconda3\\envs\\fsc\\lib\\site-packages\\graphviz\\backend\\rendering.py:324\u001b[0m, in \u001b[0;36mrender\u001b[1;34m(engine, format, filepath, renderer, formatter, neato_no_op, quiet, outfile, raise_if_result_exists, overwrite_filepath)\u001b[0m\n\u001b[0;32m    320\u001b[0m     \u001b[38;5;28;01mraise\u001b[39;00m exceptions\u001b[38;5;241m.\u001b[39mFileExistsError(\u001b[38;5;124mf\u001b[39m\u001b[38;5;124m'\u001b[39m\u001b[38;5;124moutput file exists: \u001b[39m\u001b[38;5;132;01m{\u001b[39;00mos\u001b[38;5;241m.\u001b[39mfspath(outfile)\u001b[38;5;132;01m!r}\u001b[39;00m\u001b[38;5;124m'\u001b[39m)\n\u001b[0;32m    322\u001b[0m cmd \u001b[38;5;241m+\u001b[39m\u001b[38;5;241m=\u001b[39m args\n\u001b[1;32m--> 324\u001b[0m \u001b[43mexecute\u001b[49m\u001b[38;5;241;43m.\u001b[39;49m\u001b[43mrun_check\u001b[49m\u001b[43m(\u001b[49m\u001b[43mcmd\u001b[49m\u001b[43m,\u001b[49m\n\u001b[0;32m    325\u001b[0m \u001b[43m                  \u001b[49m\u001b[43mcwd\u001b[49m\u001b[38;5;241;43m=\u001b[39;49m\u001b[43mfilepath\u001b[49m\u001b[38;5;241;43m.\u001b[39;49m\u001b[43mparent\u001b[49m\u001b[43m \u001b[49m\u001b[38;5;28;43;01mif\u001b[39;49;00m\u001b[43m \u001b[49m\u001b[43mfilepath\u001b[49m\u001b[38;5;241;43m.\u001b[39;49m\u001b[43mparent\u001b[49m\u001b[38;5;241;43m.\u001b[39;49m\u001b[43mparts\u001b[49m\u001b[43m \u001b[49m\u001b[38;5;28;43;01melse\u001b[39;49;00m\u001b[43m \u001b[49m\u001b[38;5;28;43;01mNone\u001b[39;49;00m\u001b[43m,\u001b[49m\n\u001b[0;32m    326\u001b[0m \u001b[43m                  \u001b[49m\u001b[43mquiet\u001b[49m\u001b[38;5;241;43m=\u001b[39;49m\u001b[43mquiet\u001b[49m\u001b[43m,\u001b[49m\n\u001b[0;32m    327\u001b[0m \u001b[43m                  \u001b[49m\u001b[43mcapture_output\u001b[49m\u001b[38;5;241;43m=\u001b[39;49m\u001b[38;5;28;43;01mTrue\u001b[39;49;00m\u001b[43m)\u001b[49m\n\u001b[0;32m    329\u001b[0m \u001b[38;5;28;01mreturn\u001b[39;00m os\u001b[38;5;241m.\u001b[39mfspath(outfile)\n",
      "File \u001b[1;32mD:\\Anaconda3\\envs\\fsc\\lib\\site-packages\\graphviz\\backend\\execute.py:84\u001b[0m, in \u001b[0;36mrun_check\u001b[1;34m(cmd, input_lines, encoding, quiet, **kwargs)\u001b[0m\n\u001b[0;32m     82\u001b[0m \u001b[38;5;28;01mexcept\u001b[39;00m \u001b[38;5;167;01mOSError\u001b[39;00m \u001b[38;5;28;01mas\u001b[39;00m e:\n\u001b[0;32m     83\u001b[0m     \u001b[38;5;28;01mif\u001b[39;00m e\u001b[38;5;241m.\u001b[39merrno \u001b[38;5;241m==\u001b[39m errno\u001b[38;5;241m.\u001b[39mENOENT:\n\u001b[1;32m---> 84\u001b[0m         \u001b[38;5;28;01mraise\u001b[39;00m ExecutableNotFound(cmd) \u001b[38;5;28;01mfrom\u001b[39;00m \u001b[38;5;21;01me\u001b[39;00m\n\u001b[0;32m     85\u001b[0m     \u001b[38;5;28;01mraise\u001b[39;00m\n\u001b[0;32m     87\u001b[0m \u001b[38;5;28;01mif\u001b[39;00m \u001b[38;5;129;01mnot\u001b[39;00m quiet \u001b[38;5;129;01mand\u001b[39;00m proc\u001b[38;5;241m.\u001b[39mstderr:\n",
      "\u001b[1;31mExecutableNotFound\u001b[0m: failed to execute WindowsPath('dot'), make sure the Graphviz executables are on your systems' PATH"
     ]
    }
   ],
   "source": [
    "# -*-coding:utf-8 -*-\n",
    "# --------------------\n",
    "# author: cjs\n",
    "# time: 20200910\n",
    "# usage: 进行pytorch模型的可视化\n",
    "# packages： pytorch, tensorflow, tensorboard, tensorboardX\n",
    "# --------------------\n",
    "\n",
    "import torch\n",
    "import torch.nn as nn\n",
    "import torch.nn.functional as F\n",
    "from tensorboardX import SummaryWriter  # 用于进行可视化\n",
    "from torchviz import make_dot\n",
    "\n",
    "\n",
    "class modelViz(nn.Module):\n",
    "    def __init__(self):\n",
    "        super(modelViz, self).__init__()\n",
    "        self.conv1 = nn.Conv2d(3, 16, 3, 1, padding=1)\n",
    "        self.bn1 = nn.BatchNorm2d(16)\n",
    "        self.conv2 = nn.Conv2d(16, 64, 3, 1, padding=1)\n",
    "        self.bn2 = nn.BatchNorm2d(64)\n",
    "        self.conv3 = nn.Conv2d(64, 10, 3, 1, padding=1)\n",
    "        self.bn3 = nn.BatchNorm2d(10)\n",
    "\n",
    "    def forward(self, x):\n",
    "        x = self.bn1(self.conv1(x))\n",
    "        x = F.relu(x)\n",
    "        x = self.bn2(self.conv2(x))\n",
    "        x = F.relu(x)\n",
    "        x = self.bn3(self.conv3(x))\n",
    "        x = F.relu(x)\n",
    "        return x\n",
    "\n",
    "\n",
    "if __name__  == \"__main__\":\n",
    "    # 首先来搭建一个模型\n",
    "    modelviz = modelViz()\n",
    "    # 创建输入\n",
    "    sampledata = torch.rand(1, 3, 4, 4)\n",
    "    # 看看输出结果对不对\n",
    "    out = modelviz(sampledata)\n",
    "    print(out)  # 测试有输出，网络没有问题\n",
    "\n",
    "    # 1. 来用tensorflow进行可视化\n",
    "    with SummaryWriter(\"./log\", comment=\"sample_model_visualization\") as sw:\n",
    "        sw.add_graph(modelviz, sampledata)\n",
    "\n",
    "    # 2. 保存成pt文件后进行可视化\n",
    "    torch.save(modelviz, \"./log/modelviz.pt\")\n",
    "\n",
    "    # 3. 使用graphviz进行可视化\n",
    "    out = modelviz(sampledata)\n",
    "    g = make_dot(out)\n",
    "    g.render('modelviz', view=False)"
   ]
  },
  {
   "cell_type": "code",
   "execution_count": null,
   "id": "6706eb96",
   "metadata": {},
   "outputs": [],
   "source": []
  }
 ],
 "metadata": {
  "kernelspec": {
   "display_name": "fsc",
   "language": "python",
   "name": "fsc"
  },
  "language_info": {
   "codemirror_mode": {
    "name": "ipython",
    "version": 3
   },
   "file_extension": ".py",
   "mimetype": "text/x-python",
   "name": "python",
   "nbconvert_exporter": "python",
   "pygments_lexer": "ipython3",
   "version": "3.9.0"
  }
 },
 "nbformat": 4,
 "nbformat_minor": 5
}
