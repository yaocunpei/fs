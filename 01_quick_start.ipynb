{
 "cells": [
  {
   "cell_type": "markdown",
   "metadata": {
    "pycharm": {
     "name": "#%% md\n"
    }
   },
   "source": [
    "# Quick Start\n",
    "Federated Learning (FL) is a learning paradigm for collaboratively learning models from isolated data without directly sharing privacy information, which helps to satisfy the requirements of privacy protection of the public. **FederatedScope**, a comprehensive platform for FL based on a message-oriented framework, aims to provide easy-used and flexible support for developers who want to quick start and custom task-specific FL procedures.\n",
    "\n",
    "We first provide an end-to-end standalone example to illustrate how to implement a standard FL task with **FederatedScope**."
   ]
  },
  {
   "cell_type": "markdown",
   "metadata": {
    "pycharm": {
     "name": "#%% md\n"
    }
   },
   "source": [
    "## Configurations\n",
    "**FederatedScope** organize the configuration through `yacs.config.cfgNode` and can be found in `federatedscope.configs`. Please refer to the [official documentation](https://federatedscope.io/refs/index) for specific instructions on how to configure `cfg`."
   ]
  },
  {
   "cell_type": "code",
   "execution_count": 2,
   "metadata": {
    "ExecuteTime": {
     "end_time": "2022-03-31T09:23:17.731683Z",
     "start_time": "2022-03-31T09:23:17.710894Z"
    },
    "pycharm": {
     "name": "#%%\n"
    }
   },
   "outputs": [
    {
     "name": "stdout",
     "output_type": "stream",
     "text": [
      "asyn:\n",
      "  min_received_num: 2\n",
      "  min_received_rate: -1.0\n",
      "  timeout: 0\n",
      "  use: True\n",
      "attack:\n",
      "  alpha_TV: 0.001\n",
      "  alpha_prop_loss: 0\n",
      "  attack_method: \n",
      "  attacker_id: -1\n",
      "  classifier_PIA: randomforest\n",
      "  info_diff_type: l2\n",
      "  inject_round: 0\n",
      "  max_ite: 400\n",
      "  reconstruct_lr: 0.01\n",
      "  reconstruct_optim: Adam\n",
      "  target_label_ind: -1\n",
      "backend: torch\n",
      "cfg_file: \n",
      "criterion:\n",
      "  type: MSELoss\n",
      "data:\n",
      "  args: []\n",
      "  batch_size: 64\n",
      "  cSBM_phi: [0.5, 0.5, 0.5]\n",
      "  consistent_label_distribution: False\n",
      "  drop_last: False\n",
      "  graphsaint:\n",
      "    num_steps: 30\n",
      "    walk_length: 2\n",
      "  loader: \n",
      "  num_workers: 0\n",
      "  pre_transform: []\n",
      "  quadratic:\n",
      "    dim: 1\n",
      "    max_curv: 12.5\n",
      "    min_curv: 0.02\n",
      "  root: data\n",
      "  server_holds_all: False\n",
      "  shuffle: True\n",
      "  sizes: [10, 5]\n",
      "  splits: [0.8, 0.1, 0.1]\n",
      "  splitter: \n",
      "  splitter_args: []\n",
      "  subsample: 1.0\n",
      "  target_transform: []\n",
      "  transform: []\n",
      "  type: toy\n",
      "device: -1\n",
      "distribute:\n",
      "  client_host: 0.0.0.0\n",
      "  client_port: 50050\n",
      "  data_file: data\n",
      "  data_idx: -1\n",
      "  grpc_enable_http_proxy: False\n",
      "  grpc_max_receive_message_length: 104857600\n",
      "  grpc_max_send_message_length: 104857600\n",
      "  role: client\n",
      "  server_host: 0.0.0.0\n",
      "  server_port: 50050\n",
      "  use: False\n",
      "early_stop:\n",
      "  delta: 0.0\n",
      "  improve_indicator_mode: best\n",
      "  patience: 5\n",
      "  the_smaller_the_better: True\n",
      "eval:\n",
      "  best_res_update_round_wise_key: val_loss\n",
      "  count_flops: True\n",
      "  freq: 1\n",
      "  metrics: []\n",
      "  monitoring: []\n",
      "  report: ['weighted_avg', 'avg', 'fairness', 'raw']\n",
      "  save_data: False\n",
      "  split: ['test', 'val']\n",
      "expname: \n",
      "expname_tag: \n",
      "federate:\n",
      "  client_num: 0\n",
      "  data_weighted_aggr: False\n",
      "  ignore_weight: False\n",
      "  join_in_info: []\n",
      "  make_global_eval: False\n",
      "  method: FedAvg\n",
      "  mode: standalone\n",
      "  online_aggr: False\n",
      "  restore_from: \n",
      "  sample_client_num: -1\n",
      "  sample_client_rate: -1.0\n",
      "  sampler: uniform\n",
      "  save_to: \n",
      "  share_local_model: False\n",
      "  total_round_num: 50\n",
      "  unseen_clients_rate: 0.0\n",
      "  use_diff: False\n",
      "  use_ss: False\n",
      "fedopt:\n",
      "  optimizer:\n",
      "    lr: 0.01\n",
      "    type: SGD\n",
      "  use: False\n",
      "fedprox:\n",
      "  mu: 0.0\n",
      "  use: False\n",
      "fedsageplus:\n",
      "  a: 1.0\n",
      "  b: 1.0\n",
      "  c: 1.0\n",
      "  fedgen_epoch: 200\n",
      "  gen_hidden: 128\n",
      "  hide_portion: 0.5\n",
      "  loc_epoch: 1\n",
      "  num_pred: 5\n",
      "finetune:\n",
      "  batch_or_epoch: epoch\n",
      "  before_eval: False\n",
      "  freeze_param: \n",
      "  local_update_steps: 1\n",
      "  optimizer:\n",
      "    lr: 0.1\n",
      "    type: SGD\n",
      "flitplus:\n",
      "  factor_ema: 0.8\n",
      "  lambdavat: 0.5\n",
      "  tmpFed: 0.5\n",
      "  weightReg: 1.0\n",
      "gcflplus:\n",
      "  EPS_1: 0.05\n",
      "  EPS_2: 0.1\n",
      "  seq_length: 5\n",
      "  standardize: False\n",
      "grad:\n",
      "  grad_clip: -1.0\n",
      "hpo:\n",
      "  fedex:\n",
      "    cutoff: 0.0\n",
      "    diff: False\n",
      "    eta0: -1.0\n",
      "    flatten_ss: True\n",
      "    gamma: 0.0\n",
      "    num_arms: 16\n",
      "    sched: auto\n",
      "    ss: \n",
      "    use: False\n",
      "  init_cand_num: 16\n",
      "  larger_better: False\n",
      "  log_scale: False\n",
      "  metric: client_summarized_weighted_avg.val_loss\n",
      "  num_workers: 0\n",
      "  pbt:\n",
      "    max_stage: 5\n",
      "    perf_threshold: 0.1\n",
      "  plot_interval: 1\n",
      "  scheduler: rs\n",
      "  sha:\n",
      "    budgets: []\n",
      "    elim_rate: 3\n",
      "    elim_round_num: 3\n",
      "  ss: \n",
      "  table:\n",
      "    eps: 0.1\n",
      "    idx: 0\n",
      "    num: 27\n",
      "    ss: \n",
      "  working_folder: hpo\n",
      "model:\n",
      "  dropout: 0.5\n",
      "  embed_size: 8\n",
      "  graph_pooling: mean\n",
      "  hidden: 256\n",
      "  in_channels: 0\n",
      "  layer: 2\n",
      "  model_num_per_trainer: 1\n",
      "  num_item: 0\n",
      "  num_user: 0\n",
      "  out_channels: 1\n",
      "  task: node\n",
      "  type: lr\n",
      "  use_bias: True\n",
      "nbafl:\n",
      "  constant: 30.0\n",
      "  epsilon: 100.0\n",
      "  mu: 0.0\n",
      "  use: False\n",
      "  w_clip: 1.0\n",
      "outdir: exp\n",
      "personalization:\n",
      "  K: 5\n",
      "  beta: 1.0\n",
      "  local_param: []\n",
      "  local_update_steps: -1\n",
      "  lr: 0.0\n",
      "  regular_weight: 0.1\n",
      "  share_non_trainable_para: False\n",
      "print_decimal_digits: 6\n",
      "regularizer:\n",
      "  mu: 0.0\n",
      "  type: \n",
      "seed: 0\n",
      "sgdmf:\n",
      "  R: 5.0\n",
      "  constant: 1.0\n",
      "  delta: 0.5\n",
      "  epsilon: 4.0\n",
      "  theta: -1\n",
      "  use: False\n",
      "train:\n",
      "  batch_or_epoch: batch\n",
      "  local_update_steps: 1\n",
      "  optimizer:\n",
      "    lr: 0.1\n",
      "    type: SGD\n",
      "trainer:\n",
      "  type: general\n",
      "use_gpu: False\n",
      "verbose: 1\n",
      "vertical:\n",
      "  dims: [5, 10]\n",
      "  encryption: paillier\n",
      "  key_size: 3072\n",
      "  use: False\n",
      "wandb:\n",
      "  client_train_info: False\n",
      "  name_project: \n",
      "  name_user: \n",
      "  online_track: True\n",
      "  use: False\n"
     ]
    }
   ],
   "source": [
    "from federatedscope.core.configs.config import global_cfg\n",
    "\n",
    "cfg = global_cfg.clone()\n",
    "print(cfg)"
   ]
  },
  {
   "cell_type": "code",
   "execution_count": null,
   "metadata": {},
   "outputs": [],
   "source": []
  },
  {
   "cell_type": "markdown",
   "metadata": {
    "pycharm": {
     "name": "#%% md\n"
    }
   },
   "source": [
    "## 1. Prepare datasets\n",
    "To run an FL task, firstly you should prepare datasets for FL. The DataZoo provided in **FederatedScope** can help to automatically download and preprocess widely-used public datasets from various FL applications, including computer vision, natural language processing, graph learning, recommendation, etc. Developers can conveniently conduct experiments on the provided dataset via specifying `cfg.data.type = DATASET_NAME` in the configuration. \n",
    "We also support developers to adopt custom datasets, please refer to [https://federatedscope.io/docs/own-case/]() for more details about the provided datasets in DataZoo, and refer to [02. Start your own case](./02_start_your_own_case.ipynb) for introducing custom datasets in **FederatedScope**."
   ]
  },
  {
   "cell_type": "code",
   "execution_count": 3,
   "metadata": {
    "ExecuteTime": {
     "end_time": "2022-03-31T09:23:35.205319Z",
     "start_time": "2022-03-31T09:23:18.883208Z"
    },
    "pycharm": {
     "name": "#%%\n"
    }
   },
   "outputs": [
    {
     "name": "stdout",
     "output_type": "stream",
     "text": [
      "Preprocess data (Please leave enough space)...\n"
     ]
    },
    {
     "name": "stderr",
     "output_type": "stream",
     "text": [
      "100%|█████████████████████████████████████████████████████████████████████████████████████████████████████████████████████████████████████████████████████████| 2/2 [00:11<00:00,  5.74s/it]\n"
     ]
    }
   ],
   "source": [
    "from federatedscope.core.auxiliaries.data_builder import get_data\n",
    "\n",
    "cfg.data.type = 'femnist'\n",
    "cfg.data.splits = [0.6, 0.2, 0.2]\n",
    "cfg.data.batch_size = 10\n",
    "cfg.data.subsample = 0.05\n",
    "cfg.data.transform = [['ToTensor'], ['Normalize', {'mean': [0.1307], 'std': [0.3081]}]]\n",
    "\n",
    "data, modified_cfg = get_data(cfg.clone())\n",
    "cfg.merge_from_other_cfg(modified_cfg)"
   ]
  },
  {
   "cell_type": "markdown",
   "metadata": {
    "pycharm": {
     "name": "#%% md\n"
    }
   },
   "source": [
    "## 2. Prepare models\n",
    "You should specify the model architecture that will be federally trained, such as ConvNet or LSTM. FederatedScope includes the ModelZoo to provide the implementation of famous model architectures for various FL applications. Developers can set up `cfg.model.type = MODEL_NAME` to apply a specific model architecture in FL tasks. We allow developers to use custom models via registering without caring about the federated process. You can refer to [02. Start your own case](./02_start_your_own_case.ipynb) for more details about how to customize a model architecture."
   ]
  },
  {
   "cell_type": "code",
   "execution_count": 4,
   "metadata": {
    "ExecuteTime": {
     "end_time": "2022-03-31T08:56:22.102985Z",
     "start_time": "2022-03-31T08:56:22.100304Z"
    },
    "pycharm": {
     "name": "#%%\n"
    }
   },
   "outputs": [],
   "source": [
    "cfg.model.type = 'convnet2'\n",
    "cfg.model.out_channels = 62"
   ]
  },
  {
   "cell_type": "markdown",
   "metadata": {
    "pycharm": {
     "name": "#%% md\n"
    }
   },
   "source": [
    "##  3. Start running an FL task (standalone)\n",
    "Note that FederatedScope provides a unified interface for both standalone mode and distributed mode, and allows users to change via configuring. "
   ]
  },
  {
   "cell_type": "markdown",
   "metadata": {
    "pycharm": {
     "name": "#%% md\n"
    }
   },
   "source": [
    "### Task-specific configuration.\n",
    "Here we demonstrate how to run a standard FL task with FederatedScope as an example, with setting `cfg.data.type = 'FEMNIST'`and `cfg.model.type = 'ConvNet2'` to run vanilla FedAvg for an image classification task. Now configure the Federated Learning process with `cfg`."
   ]
  },
  {
   "cell_type": "code",
   "execution_count": 5,
   "metadata": {
    "ExecuteTime": {
     "end_time": "2022-03-31T08:56:22.108379Z",
     "start_time": "2022-03-31T08:56:22.104300Z"
    },
    "pycharm": {
     "name": "#%%\n"
    }
   },
   "outputs": [],
   "source": [
    "cfg.use_gpu = False\n",
    "cfg.eval.freq = 10\n",
    "cfg.eval.metrics = ['acc', 'loss_regular']\n",
    "\n",
    "cfg.federate.mode = 'standalone'\n",
    "cfg.federate.local_update_steps = 5\n",
    "cfg.federate.total_round_num = 20\n",
    "cfg.federate.sample_client_num = 5\n",
    "cfg.federate.client_num = 10\n",
    "\n",
    "cfg.train.optimizer.lr = 0.001\n",
    "cfg.train.optimizer.weight_decay = 0.0\n",
    "cfg.grad.grad_clip = 5.0\n",
    "\n",
    "cfg.criterion.type = 'CrossEntropyLoss'\n",
    "cfg.trainer.type = 'cvtrainer'\n",
    "cfg.seed = 123"
   ]
  },
  {
   "cell_type": "markdown",
   "metadata": {
    "pycharm": {
     "name": "#%% md\n"
    }
   },
   "source": [
    "### Check `cfg` and set up `logger`\n",
    "We now need to check if the `cfg` has conflicts with default `cfg` and set up `logger` to monitor. The logs will be output in the Cell below."
   ]
  },
  {
   "cell_type": "code",
   "execution_count": 9,
   "metadata": {
    "ExecuteTime": {
     "end_time": "2022-03-31T08:56:22.113566Z",
     "start_time": "2022-03-31T08:56:22.109771Z"
    },
    "pycharm": {
     "name": "#%%\n"
    }
   },
   "outputs": [
    {
     "name": "stderr",
     "output_type": "stream",
     "text": [
      "2022-08-29 22:02:40,106 (utils:129)INFO: the current machine is at 192.168.101.227\n",
      "2022-08-29 22:02:40,107 (utils:131)INFO: the current dir is F:\\python\\FederatedScope\n",
      "2022-08-29 22:02:40,107 (utils:132)INFO: the output dir is exp\\FedAvg_convnet2_on_femnist_lr0.001_lstep1_\\FedAvg_convnet2_on_femnist_lr0.001_lstep1__\n"
     ]
    }
   ],
   "source": [
    "from federatedscope.core.auxiliaries.utils import setup_seed, update_logger\n",
    "\n",
    "setup_seed(cfg.seed)\n",
    "update_logger(cfg)\n"
   ]
  },
  {
   "cell_type": "markdown",
   "metadata": {
    "pycharm": {
     "name": "#%% md\n"
    }
   },
   "source": [
    "### Ready to go, let's get started!"
   ]
  },
  {
   "cell_type": "code",
   "execution_count": 7,
   "metadata": {
    "ExecuteTime": {
     "end_time": "2022-03-31T09:03:14.923069Z",
     "start_time": "2022-03-31T09:03:13.933170Z"
    },
    "pycharm": {
     "name": "#%%\n"
    }
   },
   "outputs": [
    {
     "name": "stderr",
     "output_type": "stream",
     "text": [
      "2022-08-29 21:56:08,126 (fed_runner:249)INFO: Server #0 has been set up ... \n",
      "2022-08-29 21:56:08,152 (fed_runner:302)INFO: Client 1 has been set up ... \n",
      "2022-08-29 21:56:08,166 (fed_runner:302)INFO: Client 2 has been set up ... \n",
      "2022-08-29 21:56:08,177 (fed_runner:302)INFO: Client 3 has been set up ... \n",
      "2022-08-29 21:56:08,190 (fed_runner:302)INFO: Client 4 has been set up ... \n",
      "2022-08-29 21:56:08,202 (fed_runner:302)INFO: Client 5 has been set up ... \n",
      "2022-08-29 21:56:08,214 (fed_runner:302)INFO: Client 6 has been set up ... \n",
      "2022-08-29 21:56:08,225 (fed_runner:302)INFO: Client 7 has been set up ... \n",
      "2022-08-29 21:56:08,236 (fed_runner:302)INFO: Client 8 has been set up ... \n",
      "2022-08-29 21:56:08,250 (fed_runner:302)INFO: Client 9 has been set up ... \n",
      "2022-08-29 21:56:08,259 (fed_runner:302)INFO: Client 10 has been set up ... \n",
      "2022-08-29 21:56:08,260 (trainer:324)INFO: Model meta-info: <class 'federatedscope.cv.model.cnn.ConvNet2'>.\n",
      "2022-08-29 21:56:08,262 (trainer:332)INFO: Num of original para names: 18.\n",
      "2022-08-29 21:56:08,263 (trainer:333)INFO: Num of original trainable para names: 12.\n",
      "2022-08-29 21:56:08,264 (trainer:335)INFO: Num of preserved para names in local update: 18. \n",
      "Preserved para names in local update: {'bn2.num_batches_tracked', 'fc1.bias', 'bn1.running_mean', 'bn1.running_var', 'conv2.bias', 'conv1.bias', 'conv2.weight', 'bn1.num_batches_tracked', 'bn2.running_mean', 'fc1.weight', 'bn2.bias', 'fc2.bias', 'fc2.weight', 'bn2.running_var', 'bn2.weight', 'bn1.weight', 'bn1.bias', 'conv1.weight'}.\n",
      "2022-08-29 21:56:08,265 (trainer:339)INFO: Num of filtered para names in local update: 0. \n",
      "Filtered para names in local update: set().\n",
      "2022-08-29 21:56:08,266 (trainer:344)INFO: After register default hooks,\n",
      "\tthe hooks_in_train is:\n",
      "\t{\n",
      "\t  \"on_fit_start\": [\n",
      "\t    \"_hook_on_fit_start_init\",\n",
      "\t    \"_hook_on_fit_start_calculate_model_size\"\n",
      "\t  ],\n",
      "\t  \"on_epoch_start\": [\n",
      "\t    \"_hook_on_epoch_start\"\n",
      "\t  ],\n",
      "\t  \"on_batch_start\": [\n",
      "\t    \"_hook_on_batch_start_init\"\n",
      "\t  ],\n",
      "\t  \"on_batch_forward\": [\n",
      "\t    \"_hook_on_batch_forward\",\n",
      "\t    \"_hook_on_batch_forward_regularizer\",\n",
      "\t    \"_hook_on_batch_forward_flop_count\"\n",
      "\t  ],\n",
      "\t  \"on_batch_backward\": [\n",
      "\t    \"_hook_on_batch_backward\"\n",
      "\t  ],\n",
      "\t  \"on_batch_end\": [\n",
      "\t    \"_hook_on_batch_end\"\n",
      "\t  ],\n",
      "\t  \"on_fit_end\": [\n",
      "\t    \"_hook_on_fit_end\"\n",
      "\t  ]\n",
      "\t};\n",
      "\tthe hooks_in_eval is:\n",
      "            t{\n",
      "\t  \"on_fit_start\": [\n",
      "\t    \"_hook_on_fit_start_init\"\n",
      "\t  ],\n",
      "\t  \"on_epoch_start\": [\n",
      "\t    \"_hook_on_epoch_start\"\n",
      "\t  ],\n",
      "\t  \"on_batch_start\": [\n",
      "\t    \"_hook_on_batch_start_init\"\n",
      "\t  ],\n",
      "\t  \"on_batch_forward\": [\n",
      "\t    \"_hook_on_batch_forward\"\n",
      "\t  ],\n",
      "\t  \"on_batch_end\": [\n",
      "\t    \"_hook_on_batch_end\"\n",
      "\t  ],\n",
      "\t  \"on_fit_end\": [\n",
      "\t    \"_hook_on_fit_end\"\n",
      "\t  ]\n",
      "\t}\n",
      "2022-08-29 21:56:08,306 (server:635)INFO: ----------- Starting training (Round #0) -------------\n",
      "Unsupported operator aten::add_ encountered 2 time(s)\n",
      "Unsupported operator aten::max_pool2d encountered 2 time(s)\n",
      "2022-08-29 21:56:08,841 (client:259)INFO: {'Role': 'Client #5', 'Round': 0, 'Results_raw': {'train_loss': 44.743881, 'train_total': 10, 'train_loss_regular': 0.0, 'train_acc': 0.0, 'train_avg_loss': 4.474388}}\n",
      "Unsupported operator aten::add_ encountered 2 time(s)\n",
      "Unsupported operator aten::max_pool2d encountered 2 time(s)\n",
      "2022-08-29 21:56:08,918 (client:259)INFO: {'Role': 'Client #1', 'Round': 0, 'Results_raw': {'train_loss': 42.445688, 'train_total': 10, 'train_loss_regular': 0.0, 'train_acc': 0.0, 'train_avg_loss': 4.244569}}\n",
      "Unsupported operator aten::add_ encountered 2 time(s)\n",
      "Unsupported operator aten::max_pool2d encountered 2 time(s)\n",
      "2022-08-29 21:56:08,977 (client:259)INFO: {'Role': 'Client #8', 'Round': 0, 'Results_raw': {'train_loss': 39.767253, 'train_total': 10, 'train_loss_regular': 0.0, 'train_acc': 0.1, 'train_avg_loss': 3.976725}}\n",
      "Unsupported operator aten::add_ encountered 2 time(s)\n",
      "Unsupported operator aten::max_pool2d encountered 2 time(s)\n",
      "2022-08-29 21:56:09,045 (client:259)INFO: {'Role': 'Client #6', 'Round': 0, 'Results_raw': {'train_loss': 41.154909, 'train_total': 10, 'train_loss_regular': 0.0, 'train_acc': 0.0, 'train_avg_loss': 4.115491}}\n",
      "Unsupported operator aten::add_ encountered 2 time(s)\n",
      "Unsupported operator aten::max_pool2d encountered 2 time(s)\n",
      "2022-08-29 21:56:09,105 (client:259)INFO: {'Role': 'Client #9', 'Round': 0, 'Results_raw': {'train_loss': 45.161195, 'train_total': 10, 'train_loss_regular': 0.0, 'train_acc': 0.0, 'train_avg_loss': 4.516119}}\n",
      "2022-08-29 21:56:09,120 (server:321)INFO: ----------- Starting a new training round (Round #1) -------------\n",
      "Unsupported operator aten::add_ encountered 2 time(s)\n",
      "Unsupported operator aten::max_pool2d encountered 2 time(s)\n",
      "2022-08-29 21:56:09,183 (client:259)INFO: {'Role': 'Client #4', 'Round': 1, 'Results_raw': {'train_loss': 44.817729, 'train_total': 10, 'train_loss_regular': 0.0, 'train_acc': 0.0, 'train_avg_loss': 4.481773}}\n",
      "2022-08-29 21:56:09,212 (client:259)INFO: {'Role': 'Client #6', 'Round': 1, 'Results_raw': {'train_loss': 42.113733, 'train_total': 10, 'train_loss_regular': 0.0, 'train_acc': 0.0, 'train_avg_loss': 4.211373}}\n",
      "2022-08-29 21:56:09,245 (client:259)INFO: {'Role': 'Client #5', 'Round': 1, 'Results_raw': {'train_loss': 45.303864, 'train_total': 10, 'train_loss_regular': 0.0, 'train_acc': 0.0, 'train_avg_loss': 4.530386}}\n",
      "Unsupported operator aten::add_ encountered 2 time(s)\n",
      "Unsupported operator aten::max_pool2d encountered 2 time(s)\n",
      "2022-08-29 21:56:09,315 (client:259)INFO: {'Role': 'Client #3', 'Round': 1, 'Results_raw': {'train_loss': 44.193468, 'train_total': 10, 'train_loss_regular': 0.0, 'train_acc': 0.0, 'train_avg_loss': 4.419347}}\n",
      "2022-08-29 21:56:09,342 (client:259)INFO: {'Role': 'Client #9', 'Round': 1, 'Results_raw': {'train_loss': 40.464869, 'train_total': 10, 'train_loss_regular': 0.0, 'train_acc': 0.0, 'train_avg_loss': 4.046487}}\n",
      "2022-08-29 21:56:09,355 (server:321)INFO: ----------- Starting a new training round (Round #2) -------------\n",
      "2022-08-29 21:56:09,390 (client:259)INFO: {'Role': 'Client #3', 'Round': 2, 'Results_raw': {'train_loss': 39.983971, 'train_total': 10, 'train_loss_regular': 0.0, 'train_acc': 0.0, 'train_avg_loss': 3.998397}}\n",
      "Unsupported operator aten::add_ encountered 2 time(s)\n",
      "Unsupported operator aten::max_pool2d encountered 2 time(s)\n",
      "2022-08-29 21:56:09,447 (client:259)INFO: {'Role': 'Client #2', 'Round': 2, 'Results_raw': {'train_loss': 43.429346, 'train_total': 10, 'train_loss_regular': 0.0, 'train_acc': 0.0, 'train_avg_loss': 4.342935}}\n",
      "2022-08-29 21:56:09,478 (client:259)INFO: {'Role': 'Client #9', 'Round': 2, 'Results_raw': {'train_loss': 39.002678, 'train_total': 10, 'train_loss_regular': 0.0, 'train_acc': 0.1, 'train_avg_loss': 3.900268}}\n",
      "2022-08-29 21:56:09,505 (client:259)INFO: {'Role': 'Client #8', 'Round': 2, 'Results_raw': {'train_loss': 42.551413, 'train_total': 10, 'train_loss_regular': 0.0, 'train_acc': 0.0, 'train_avg_loss': 4.255141}}\n",
      "2022-08-29 21:56:09,531 (client:259)INFO: {'Role': 'Client #1', 'Round': 2, 'Results_raw': {'train_loss': 40.504351, 'train_total': 10, 'train_loss_regular': 0.0, 'train_acc': 0.0, 'train_avg_loss': 4.050435}}\n",
      "2022-08-29 21:56:09,543 (server:321)INFO: ----------- Starting a new training round (Round #3) -------------\n",
      "2022-08-29 21:56:09,574 (client:259)INFO: {'Role': 'Client #6', 'Round': 3, 'Results_raw': {'train_loss': 43.131514, 'train_total': 10, 'train_loss_regular': 0.0, 'train_acc': 0.0, 'train_avg_loss': 4.313151}}\n",
      "2022-08-29 21:56:09,600 (client:259)INFO: {'Role': 'Client #2', 'Round': 3, 'Results_raw': {'train_loss': 43.676238, 'train_total': 10, 'train_loss_regular': 0.0, 'train_acc': 0.0, 'train_avg_loss': 4.367624}}\n",
      "2022-08-29 21:56:09,626 (client:259)INFO: {'Role': 'Client #1', 'Round': 3, 'Results_raw': {'train_loss': 42.419577, 'train_total': 10, 'train_loss_regular': 0.0, 'train_acc': 0.0, 'train_avg_loss': 4.241958}}\n",
      "2022-08-29 21:56:09,657 (client:259)INFO: {'Role': 'Client #9', 'Round': 3, 'Results_raw': {'train_loss': 44.216299, 'train_total': 10, 'train_loss_regular': 0.0, 'train_acc': 0.0, 'train_avg_loss': 4.42163}}\n",
      "Unsupported operator aten::add_ encountered 2 time(s)\n",
      "Unsupported operator aten::max_pool2d encountered 2 time(s)\n",
      "2022-08-29 21:56:09,711 (client:259)INFO: {'Role': 'Client #7', 'Round': 3, 'Results_raw': {'train_loss': 42.938509, 'train_total': 10, 'train_loss_regular': 0.0, 'train_acc': 0.0, 'train_avg_loss': 4.293851}}\n"
     ]
    },
    {
     "name": "stderr",
     "output_type": "stream",
     "text": [
      "2022-08-29 21:56:09,728 (server:321)INFO: ----------- Starting a new training round (Round #4) -------------\n",
      "2022-08-29 21:56:09,754 (client:259)INFO: {'Role': 'Client #7', 'Round': 4, 'Results_raw': {'train_loss': 43.128381, 'train_total': 10, 'train_loss_regular': 0.0, 'train_acc': 0.0, 'train_avg_loss': 4.312838}}\n",
      "2022-08-29 21:56:09,780 (client:259)INFO: {'Role': 'Client #9', 'Round': 4, 'Results_raw': {'train_loss': 45.318069, 'train_total': 10, 'train_loss_regular': 0.0, 'train_acc': 0.0, 'train_avg_loss': 4.531807}}\n",
      "2022-08-29 21:56:09,807 (client:259)INFO: {'Role': 'Client #3', 'Round': 4, 'Results_raw': {'train_loss': 40.69881, 'train_total': 10, 'train_loss_regular': 0.0, 'train_acc': 0.0, 'train_avg_loss': 4.069881}}\n",
      "Unsupported operator aten::add_ encountered 2 time(s)\n",
      "Unsupported operator aten::max_pool2d encountered 2 time(s)\n",
      "2022-08-29 21:56:09,868 (client:259)INFO: {'Role': 'Client #10', 'Round': 4, 'Results_raw': {'train_loss': 42.67467, 'train_total': 10, 'train_loss_regular': 0.0, 'train_acc': 0.0, 'train_avg_loss': 4.267467}}\n",
      "2022-08-29 21:56:09,900 (client:259)INFO: {'Role': 'Client #6', 'Round': 4, 'Results_raw': {'train_loss': 42.377033, 'train_total': 10, 'train_loss_regular': 0.0, 'train_acc': 0.0, 'train_avg_loss': 4.237703}}\n",
      "2022-08-29 21:56:09,916 (server:321)INFO: ----------- Starting a new training round (Round #5) -------------\n",
      "2022-08-29 21:56:09,950 (client:259)INFO: {'Role': 'Client #10', 'Round': 5, 'Results_raw': {'train_loss': 44.672942, 'train_total': 10, 'train_loss_regular': 0.0, 'train_acc': 0.0, 'train_avg_loss': 4.467294}}\n",
      "2022-08-29 21:56:09,981 (client:259)INFO: {'Role': 'Client #5', 'Round': 5, 'Results_raw': {'train_loss': 42.154994, 'train_total': 10, 'train_loss_regular': 0.0, 'train_acc': 0.0, 'train_avg_loss': 4.215499}}\n",
      "2022-08-29 21:56:10,014 (client:259)INFO: {'Role': 'Client #8', 'Round': 5, 'Results_raw': {'train_loss': 43.95143, 'train_total': 10, 'train_loss_regular': 0.0, 'train_acc': 0.0, 'train_avg_loss': 4.395143}}\n",
      "2022-08-29 21:56:10,045 (client:259)INFO: {'Role': 'Client #1', 'Round': 5, 'Results_raw': {'train_loss': 43.199921, 'train_total': 10, 'train_loss_regular': 0.0, 'train_acc': 0.0, 'train_avg_loss': 4.319992}}\n",
      "2022-08-29 21:56:10,070 (client:259)INFO: {'Role': 'Client #2', 'Round': 5, 'Results_raw': {'train_loss': 44.536352, 'train_total': 10, 'train_loss_regular': 0.0, 'train_acc': 0.0, 'train_avg_loss': 4.453635}}\n",
      "2022-08-29 21:56:10,083 (server:321)INFO: ----------- Starting a new training round (Round #6) -------------\n",
      "2022-08-29 21:56:10,109 (client:259)INFO: {'Role': 'Client #8', 'Round': 6, 'Results_raw': {'train_loss': 41.138544, 'train_total': 10, 'train_loss_regular': 0.0, 'train_acc': 0.0, 'train_avg_loss': 4.113854}}\n",
      "2022-08-29 21:56:10,137 (client:259)INFO: {'Role': 'Client #9', 'Round': 6, 'Results_raw': {'train_loss': 42.107277, 'train_total': 10, 'train_loss_regular': 0.0, 'train_acc': 0.0, 'train_avg_loss': 4.210728}}\n",
      "2022-08-29 21:56:10,164 (client:259)INFO: {'Role': 'Client #2', 'Round': 6, 'Results_raw': {'train_loss': 42.565589, 'train_total': 10, 'train_loss_regular': 0.0, 'train_acc': 0.0, 'train_avg_loss': 4.256559}}\n",
      "2022-08-29 21:56:10,193 (client:259)INFO: {'Role': 'Client #5', 'Round': 6, 'Results_raw': {'train_loss': 42.960668, 'train_total': 10, 'train_loss_regular': 0.0, 'train_acc': 0.0, 'train_avg_loss': 4.296067}}\n",
      "2022-08-29 21:56:10,228 (client:259)INFO: {'Role': 'Client #10', 'Round': 6, 'Results_raw': {'train_loss': 41.7418, 'train_total': 10, 'train_loss_regular': 0.0, 'train_acc': 0.1, 'train_avg_loss': 4.17418}}\n",
      "2022-08-29 21:56:10,241 (server:321)INFO: ----------- Starting a new training round (Round #7) -------------\n",
      "2022-08-29 21:56:10,266 (client:259)INFO: {'Role': 'Client #2', 'Round': 7, 'Results_raw': {'train_loss': 42.98408, 'train_total': 10, 'train_loss_regular': 0.0, 'train_acc': 0.0, 'train_avg_loss': 4.298408}}\n",
      "2022-08-29 21:56:10,297 (client:259)INFO: {'Role': 'Client #8', 'Round': 7, 'Results_raw': {'train_loss': 43.561568, 'train_total': 10, 'train_loss_regular': 0.0, 'train_acc': 0.0, 'train_avg_loss': 4.356157}}\n",
      "2022-08-29 21:56:10,327 (client:259)INFO: {'Role': 'Client #9', 'Round': 7, 'Results_raw': {'train_loss': 44.13075, 'train_total': 10, 'train_loss_regular': 0.0, 'train_acc': 0.0, 'train_avg_loss': 4.413075}}\n",
      "2022-08-29 21:56:10,360 (client:259)INFO: {'Role': 'Client #1', 'Round': 7, 'Results_raw': {'train_loss': 42.673965, 'train_total': 10, 'train_loss_regular': 0.0, 'train_acc': 0.0, 'train_avg_loss': 4.267396}}\n",
      "2022-08-29 21:56:10,394 (client:259)INFO: {'Role': 'Client #3', 'Round': 7, 'Results_raw': {'train_loss': 43.473587, 'train_total': 10, 'train_loss_regular': 0.0, 'train_acc': 0.0, 'train_avg_loss': 4.347359}}\n",
      "2022-08-29 21:56:10,410 (server:321)INFO: ----------- Starting a new training round (Round #8) -------------\n",
      "2022-08-29 21:56:10,438 (client:259)INFO: {'Role': 'Client #1', 'Round': 8, 'Results_raw': {'train_loss': 43.776522, 'train_total': 10, 'train_loss_regular': 0.0, 'train_acc': 0.0, 'train_avg_loss': 4.377652}}\n",
      "2022-08-29 21:56:10,467 (client:259)INFO: {'Role': 'Client #10', 'Round': 8, 'Results_raw': {'train_loss': 41.189394, 'train_total': 10, 'train_loss_regular': 0.0, 'train_acc': 0.0, 'train_avg_loss': 4.118939}}\n",
      "2022-08-29 21:56:10,500 (client:259)INFO: {'Role': 'Client #6', 'Round': 8, 'Results_raw': {'train_loss': 42.640438, 'train_total': 10, 'train_loss_regular': 0.0, 'train_acc': 0.0, 'train_avg_loss': 4.264044}}\n",
      "2022-08-29 21:56:10,531 (client:259)INFO: {'Role': 'Client #3', 'Round': 8, 'Results_raw': {'train_loss': 44.245157, 'train_total': 10, 'train_loss_regular': 0.0, 'train_acc': 0.0, 'train_avg_loss': 4.424516}}\n",
      "2022-08-29 21:56:10,557 (client:259)INFO: {'Role': 'Client #9', 'Round': 8, 'Results_raw': {'train_loss': 40.160341, 'train_total': 10, 'train_loss_regular': 0.0, 'train_acc': 0.1, 'train_avg_loss': 4.016034}}\n",
      "2022-08-29 21:56:10,576 (server:321)INFO: ----------- Starting a new training round (Round #9) -------------\n",
      "2022-08-29 21:56:10,608 (client:259)INFO: {'Role': 'Client #7', 'Round': 9, 'Results_raw': {'train_loss': 42.821345, 'train_total': 10, 'train_loss_regular': 0.0, 'train_acc': 0.0, 'train_avg_loss': 4.282135}}\n",
      "2022-08-29 21:56:10,633 (client:259)INFO: {'Role': 'Client #4', 'Round': 9, 'Results_raw': {'train_loss': 45.289016, 'train_total': 10, 'train_loss_regular': 0.0, 'train_acc': 0.0, 'train_avg_loss': 4.528902}}\n",
      "2022-08-29 21:56:10,664 (client:259)INFO: {'Role': 'Client #6', 'Round': 9, 'Results_raw': {'train_loss': 44.263296, 'train_total': 10, 'train_loss_regular': 0.0, 'train_acc': 0.0, 'train_avg_loss': 4.42633}}\n",
      "2022-08-29 21:56:10,692 (client:259)INFO: {'Role': 'Client #9', 'Round': 9, 'Results_raw': {'train_loss': 42.579741, 'train_total': 10, 'train_loss_regular': 0.0, 'train_acc': 0.0, 'train_avg_loss': 4.257974}}\n",
      "2022-08-29 21:56:10,716 (client:259)INFO: {'Role': 'Client #8', 'Round': 9, 'Results_raw': {'train_loss': 41.543093, 'train_total': 10, 'train_loss_regular': 0.0, 'train_acc': 0.0, 'train_avg_loss': 4.154309}}\n",
      "2022-08-29 21:56:10,730 (server:314)INFO: Server #0: Starting evaluation at the end of round 9.\n",
      "2022-08-29 21:56:10,732 (server:321)INFO: ----------- Starting a new training round (Round #10) -------------\n",
      "2022-08-29 21:56:11,698 (client:259)INFO: {'Role': 'Client #9', 'Round': 10, 'Results_raw': {'train_loss': 39.013259, 'train_total': 10, 'train_loss_regular': 0.0, 'train_acc': 0.0, 'train_avg_loss': 3.901326}}\n",
      "2022-08-29 21:56:11,726 (client:259)INFO: {'Role': 'Client #5', 'Round': 10, 'Results_raw': {'train_loss': 42.781329, 'train_total': 10, 'train_loss_regular': 0.0, 'train_acc': 0.1, 'train_avg_loss': 4.278133}}\n",
      "2022-08-29 21:56:11,752 (client:259)INFO: {'Role': 'Client #3', 'Round': 10, 'Results_raw': {'train_loss': 42.1451, 'train_total': 10, 'train_loss_regular': 0.0, 'train_acc': 0.0, 'train_avg_loss': 4.21451}}\n",
      "2022-08-29 21:56:11,786 (client:259)INFO: {'Role': 'Client #8', 'Round': 10, 'Results_raw': {'train_loss': 42.807212, 'train_total': 10, 'train_loss_regular': 0.0, 'train_acc': 0.0, 'train_avg_loss': 4.280721}}\n",
      "2022-08-29 21:56:11,815 (client:259)INFO: {'Role': 'Client #10', 'Round': 10, 'Results_raw': {'train_loss': 43.007531, 'train_total': 10, 'train_loss_regular': 0.0, 'train_acc': 0.1, 'train_avg_loss': 4.300753}}\n"
     ]
    },
    {
     "name": "stderr",
     "output_type": "stream",
     "text": [
      "2022-08-29 21:56:11,825 (server:487)INFO: {'Role': 'Server #', 'Round': 10, 'Results_weighted_avg': {'test_loss': 276.977604, 'test_total': 66.4, 'test_loss_regular': 0.0, 'test_acc': 0.013554, 'test_avg_loss': 4.105541, 'val_loss': 275.39893, 'val_total': 65.9, 'val_loss_regular': 0.0, 'val_acc': 0.00607, 'val_avg_loss': 4.115098}, 'Results_avg': {'test_loss': 272.607926, 'test_total': 66.4, 'test_loss_regular': 0.0, 'test_acc': 0.013773, 'test_avg_loss': 4.105667, 'val_loss': 271.184964, 'val_total': 65.9, 'val_loss_regular': 0.0, 'val_acc': 0.005739, 'val_avg_loss': 4.116175}, 'Results_fairness': {'test_total': 66.4, 'val_total': 65.9, 'test_loss_std': 34.512633, 'test_loss_bottom_decile': 236.176417, 'test_loss_top_decile': 327.255363, 'test_loss_regular_std': 0.0, 'test_loss_regular_bottom_decile': 0.0, 'test_loss_regular_top_decile': 0.0, 'test_acc_std': 0.019376, 'test_acc_bottom_decile': 0.0, 'test_acc_top_decile': 0.064516, 'test_avg_loss_std': 0.025563, 'test_avg_loss_bottom_decile': 4.072007, 'test_avg_loss_top_decile': 4.155724, 'val_loss_std': 33.573332, 'val_loss_bottom_decile': 234.686839, 'val_loss_top_decile': 324.422581, 'val_loss_regular_std': 0.0, 'val_loss_regular_bottom_decile': 0.0, 'val_loss_regular_top_decile': 0.0, 'val_acc_std': 0.007032, 'val_acc_bottom_decile': 0.0, 'val_acc_top_decile': 0.014925, 'val_avg_loss_std': 0.018289, 'val_avg_loss_bottom_decile': 4.101569, 'val_avg_loss_top_decile': 4.141611}}\n",
      "2022-08-29 21:56:11,843 (server:321)INFO: ----------- Starting a new training round (Round #11) -------------\n",
      "2022-08-29 21:56:11,876 (client:259)INFO: {'Role': 'Client #7', 'Round': 11, 'Results_raw': {'train_loss': 41.708217, 'train_total': 10, 'train_loss_regular': 0.0, 'train_acc': 0.0, 'train_avg_loss': 4.170822}}\n",
      "2022-08-29 21:56:11,913 (client:259)INFO: {'Role': 'Client #9', 'Round': 11, 'Results_raw': {'train_loss': 41.907053, 'train_total': 10, 'train_loss_regular': 0.0, 'train_acc': 0.1, 'train_avg_loss': 4.190705}}\n",
      "2022-08-29 21:56:11,951 (client:259)INFO: {'Role': 'Client #1', 'Round': 11, 'Results_raw': {'train_loss': 43.325634, 'train_total': 10, 'train_loss_regular': 0.0, 'train_acc': 0.0, 'train_avg_loss': 4.332563}}\n",
      "2022-08-29 21:56:11,988 (client:259)INFO: {'Role': 'Client #5', 'Round': 11, 'Results_raw': {'train_loss': 40.992556, 'train_total': 10, 'train_loss_regular': 0.0, 'train_acc': 0.0, 'train_avg_loss': 4.099256}}\n",
      "2022-08-29 21:56:12,024 (client:259)INFO: {'Role': 'Client #10', 'Round': 11, 'Results_raw': {'train_loss': 43.645654, 'train_total': 10, 'train_loss_regular': 0.0, 'train_acc': 0.0, 'train_avg_loss': 4.364565}}\n",
      "2022-08-29 21:56:12,041 (server:321)INFO: ----------- Starting a new training round (Round #12) -------------\n",
      "2022-08-29 21:56:12,072 (client:259)INFO: {'Role': 'Client #5', 'Round': 12, 'Results_raw': {'train_loss': 46.041541, 'train_total': 10, 'train_loss_regular': 0.0, 'train_acc': 0.0, 'train_avg_loss': 4.604154}}\n",
      "2022-08-29 21:56:12,102 (client:259)INFO: {'Role': 'Client #6', 'Round': 12, 'Results_raw': {'train_loss': 41.819272, 'train_total': 10, 'train_loss_regular': 0.0, 'train_acc': 0.0, 'train_avg_loss': 4.181927}}\n",
      "2022-08-29 21:56:12,133 (client:259)INFO: {'Role': 'Client #1', 'Round': 12, 'Results_raw': {'train_loss': 39.723046, 'train_total': 10, 'train_loss_regular': 0.0, 'train_acc': 0.0, 'train_avg_loss': 3.972305}}\n",
      "2022-08-29 21:56:12,166 (client:259)INFO: {'Role': 'Client #3', 'Round': 12, 'Results_raw': {'train_loss': 40.9196, 'train_total': 10, 'train_loss_regular': 0.0, 'train_acc': 0.0, 'train_avg_loss': 4.09196}}\n",
      "2022-08-29 21:56:12,194 (client:259)INFO: {'Role': 'Client #2', 'Round': 12, 'Results_raw': {'train_loss': 41.376472, 'train_total': 10, 'train_loss_regular': 0.0, 'train_acc': 0.0, 'train_avg_loss': 4.137647}}\n",
      "2022-08-29 21:56:12,208 (server:321)INFO: ----------- Starting a new training round (Round #13) -------------\n",
      "2022-08-29 21:56:12,235 (client:259)INFO: {'Role': 'Client #5', 'Round': 13, 'Results_raw': {'train_loss': 41.946096, 'train_total': 10, 'train_loss_regular': 0.0, 'train_acc': 0.0, 'train_avg_loss': 4.19461}}\n",
      "2022-08-29 21:56:12,264 (client:259)INFO: {'Role': 'Client #8', 'Round': 13, 'Results_raw': {'train_loss': 41.64166, 'train_total': 10, 'train_loss_regular': 0.0, 'train_acc': 0.0, 'train_avg_loss': 4.164166}}\n",
      "2022-08-29 21:56:12,297 (client:259)INFO: {'Role': 'Client #9', 'Round': 13, 'Results_raw': {'train_loss': 42.338505, 'train_total': 10, 'train_loss_regular': 0.0, 'train_acc': 0.0, 'train_avg_loss': 4.23385}}\n",
      "2022-08-29 21:56:12,323 (client:259)INFO: {'Role': 'Client #1', 'Round': 13, 'Results_raw': {'train_loss': 42.300863, 'train_total': 10, 'train_loss_regular': 0.0, 'train_acc': 0.1, 'train_avg_loss': 4.230086}}\n",
      "2022-08-29 21:56:12,350 (client:259)INFO: {'Role': 'Client #4', 'Round': 13, 'Results_raw': {'train_loss': 44.258809, 'train_total': 10, 'train_loss_regular': 0.0, 'train_acc': 0.0, 'train_avg_loss': 4.425881}}\n",
      "2022-08-29 21:56:12,364 (server:321)INFO: ----------- Starting a new training round (Round #14) -------------\n",
      "2022-08-29 21:56:12,389 (client:259)INFO: {'Role': 'Client #5', 'Round': 14, 'Results_raw': {'train_loss': 43.707643, 'train_total': 10, 'train_loss_regular': 0.0, 'train_acc': 0.0, 'train_avg_loss': 4.370764}}\n",
      "2022-08-29 21:56:12,416 (client:259)INFO: {'Role': 'Client #3', 'Round': 14, 'Results_raw': {'train_loss': 44.388838, 'train_total': 10, 'train_loss_regular': 0.0, 'train_acc': 0.0, 'train_avg_loss': 4.438884}}\n",
      "2022-08-29 21:56:12,443 (client:259)INFO: {'Role': 'Client #7', 'Round': 14, 'Results_raw': {'train_loss': 40.42408, 'train_total': 10, 'train_loss_regular': 0.0, 'train_acc': 0.1, 'train_avg_loss': 4.042408}}\n",
      "2022-08-29 21:56:12,473 (client:259)INFO: {'Role': 'Client #2', 'Round': 14, 'Results_raw': {'train_loss': 42.454505, 'train_total': 10, 'train_loss_regular': 0.0, 'train_acc': 0.0, 'train_avg_loss': 4.24545}}\n",
      "2022-08-29 21:56:12,507 (client:259)INFO: {'Role': 'Client #8', 'Round': 14, 'Results_raw': {'train_loss': 40.338473, 'train_total': 10, 'train_loss_regular': 0.0, 'train_acc': 0.0, 'train_avg_loss': 4.033847}}\n",
      "2022-08-29 21:56:12,522 (server:321)INFO: ----------- Starting a new training round (Round #15) -------------\n",
      "2022-08-29 21:56:12,553 (client:259)INFO: {'Role': 'Client #8', 'Round': 15, 'Results_raw': {'train_loss': 40.222559, 'train_total': 10, 'train_loss_regular': 0.0, 'train_acc': 0.1, 'train_avg_loss': 4.022256}}\n",
      "2022-08-29 21:56:12,589 (client:259)INFO: {'Role': 'Client #10', 'Round': 15, 'Results_raw': {'train_loss': 42.002192, 'train_total': 10, 'train_loss_regular': 0.0, 'train_acc': 0.0, 'train_avg_loss': 4.200219}}\n",
      "2022-08-29 21:56:12,617 (client:259)INFO: {'Role': 'Client #7', 'Round': 15, 'Results_raw': {'train_loss': 40.51681, 'train_total': 10, 'train_loss_regular': 0.0, 'train_acc': 0.0, 'train_avg_loss': 4.051681}}\n",
      "2022-08-29 21:56:12,643 (client:259)INFO: {'Role': 'Client #3', 'Round': 15, 'Results_raw': {'train_loss': 43.187737, 'train_total': 10, 'train_loss_regular': 0.0, 'train_acc': 0.1, 'train_avg_loss': 4.318774}}\n",
      "2022-08-29 21:56:12,672 (client:259)INFO: {'Role': 'Client #5', 'Round': 15, 'Results_raw': {'train_loss': 43.674254, 'train_total': 10, 'train_loss_regular': 0.0, 'train_acc': 0.0, 'train_avg_loss': 4.367425}}\n",
      "2022-08-29 21:56:12,685 (server:321)INFO: ----------- Starting a new training round (Round #16) -------------\n",
      "2022-08-29 21:56:12,712 (client:259)INFO: {'Role': 'Client #10', 'Round': 16, 'Results_raw': {'train_loss': 42.711577, 'train_total': 10, 'train_loss_regular': 0.0, 'train_acc': 0.0, 'train_avg_loss': 4.271158}}\n",
      "2022-08-29 21:56:12,741 (client:259)INFO: {'Role': 'Client #1', 'Round': 16, 'Results_raw': {'train_loss': 40.636773, 'train_total': 10, 'train_loss_regular': 0.0, 'train_acc': 0.0, 'train_avg_loss': 4.063677}}\n",
      "2022-08-29 21:56:12,766 (client:259)INFO: {'Role': 'Client #3', 'Round': 16, 'Results_raw': {'train_loss': 42.988563, 'train_total': 10, 'train_loss_regular': 0.0, 'train_acc': 0.0, 'train_avg_loss': 4.298856}}\n",
      "2022-08-29 21:56:12,792 (client:259)INFO: {'Role': 'Client #6', 'Round': 16, 'Results_raw': {'train_loss': 42.072439, 'train_total': 10, 'train_loss_regular': 0.0, 'train_acc': 0.0, 'train_avg_loss': 4.207244}}\n"
     ]
    },
    {
     "name": "stderr",
     "output_type": "stream",
     "text": [
      "2022-08-29 21:56:12,824 (client:259)INFO: {'Role': 'Client #8', 'Round': 16, 'Results_raw': {'train_loss': 43.896275, 'train_total': 10, 'train_loss_regular': 0.0, 'train_acc': 0.0, 'train_avg_loss': 4.389627}}\n",
      "2022-08-29 21:56:12,837 (server:321)INFO: ----------- Starting a new training round (Round #17) -------------\n",
      "2022-08-29 21:56:12,862 (client:259)INFO: {'Role': 'Client #8', 'Round': 17, 'Results_raw': {'train_loss': 40.803576, 'train_total': 10, 'train_loss_regular': 0.0, 'train_acc': 0.0, 'train_avg_loss': 4.080358}}\n",
      "2022-08-29 21:56:12,891 (client:259)INFO: {'Role': 'Client #3', 'Round': 17, 'Results_raw': {'train_loss': 41.626368, 'train_total': 10, 'train_loss_regular': 0.0, 'train_acc': 0.0, 'train_avg_loss': 4.162637}}\n",
      "2022-08-29 21:56:12,915 (client:259)INFO: {'Role': 'Client #4', 'Round': 17, 'Results_raw': {'train_loss': 42.393842, 'train_total': 10, 'train_loss_regular': 0.0, 'train_acc': 0.0, 'train_avg_loss': 4.239384}}\n",
      "2022-08-29 21:56:12,945 (client:259)INFO: {'Role': 'Client #6', 'Round': 17, 'Results_raw': {'train_loss': 41.64072, 'train_total': 10, 'train_loss_regular': 0.0, 'train_acc': 0.1, 'train_avg_loss': 4.164072}}\n",
      "2022-08-29 21:56:12,971 (client:259)INFO: {'Role': 'Client #2', 'Round': 17, 'Results_raw': {'train_loss': 44.170852, 'train_total': 10, 'train_loss_regular': 0.0, 'train_acc': 0.0, 'train_avg_loss': 4.417085}}\n",
      "2022-08-29 21:56:12,989 (server:321)INFO: ----------- Starting a new training round (Round #18) -------------\n",
      "2022-08-29 21:56:13,018 (client:259)INFO: {'Role': 'Client #5', 'Round': 18, 'Results_raw': {'train_loss': 41.153069, 'train_total': 10, 'train_loss_regular': 0.0, 'train_acc': 0.0, 'train_avg_loss': 4.115307}}\n",
      "2022-08-29 21:56:13,042 (client:259)INFO: {'Role': 'Client #8', 'Round': 18, 'Results_raw': {'train_loss': 41.308527, 'train_total': 10, 'train_loss_regular': 0.0, 'train_acc': 0.0, 'train_avg_loss': 4.130853}}\n",
      "2022-08-29 21:56:13,075 (client:259)INFO: {'Role': 'Client #4', 'Round': 18, 'Results_raw': {'train_loss': 40.303674, 'train_total': 10, 'train_loss_regular': 0.0, 'train_acc': 0.0, 'train_avg_loss': 4.030367}}\n",
      "2022-08-29 21:56:13,103 (client:259)INFO: {'Role': 'Client #6', 'Round': 18, 'Results_raw': {'train_loss': 42.216668, 'train_total': 10, 'train_loss_regular': 0.0, 'train_acc': 0.0, 'train_avg_loss': 4.221667}}\n",
      "2022-08-29 21:56:13,129 (client:259)INFO: {'Role': 'Client #3', 'Round': 18, 'Results_raw': {'train_loss': 40.742311, 'train_total': 10, 'train_loss_regular': 0.0, 'train_acc': 0.0, 'train_avg_loss': 4.074231}}\n",
      "2022-08-29 21:56:13,142 (server:321)INFO: ----------- Starting a new training round (Round #19) -------------\n",
      "2022-08-29 21:56:13,176 (client:259)INFO: {'Role': 'Client #3', 'Round': 19, 'Results_raw': {'train_loss': 44.06127, 'train_total': 10, 'train_loss_regular': 0.0, 'train_acc': 0.0, 'train_avg_loss': 4.406127}}\n",
      "2022-08-29 21:56:13,201 (client:259)INFO: {'Role': 'Client #1', 'Round': 19, 'Results_raw': {'train_loss': 42.327352, 'train_total': 10, 'train_loss_regular': 0.0, 'train_acc': 0.0, 'train_avg_loss': 4.232735}}\n",
      "2022-08-29 21:56:13,226 (client:259)INFO: {'Role': 'Client #7', 'Round': 19, 'Results_raw': {'train_loss': 39.206116, 'train_total': 10, 'train_loss_regular': 0.0, 'train_acc': 0.0, 'train_avg_loss': 3.920612}}\n",
      "2022-08-29 21:56:13,251 (client:259)INFO: {'Role': 'Client #9', 'Round': 19, 'Results_raw': {'train_loss': 42.591105, 'train_total': 10, 'train_loss_regular': 0.0, 'train_acc': 0.0, 'train_avg_loss': 4.25911}}\n",
      "2022-08-29 21:56:13,275 (client:259)INFO: {'Role': 'Client #10', 'Round': 19, 'Results_raw': {'train_loss': 41.843734, 'train_total': 10, 'train_loss_regular': 0.0, 'train_acc': 0.0, 'train_avg_loss': 4.184373}}\n",
      "2022-08-29 21:56:13,288 (server:332)INFO: Server #0: Training is finished! Starting evaluation.\n",
      "2022-08-29 21:56:14,176 (server:487)INFO: {'Role': 'Server #', 'Round': 20, 'Results_weighted_avg': {'test_loss': 276.351399, 'test_total': 66.4, 'test_loss_regular': 0.0, 'test_acc': 0.010542, 'test_avg_loss': 4.096276, 'val_loss': 274.65778, 'val_total': 65.9, 'val_loss_regular': 0.0, 'val_acc': 0.01214, 'val_avg_loss': 4.103881}, 'Results_avg': {'test_loss': 271.992737, 'test_total': 66.4, 'test_loss_regular': 0.0, 'test_acc': 0.009985, 'test_avg_loss': 4.096451, 'val_loss': 270.445749, 'val_total': 65.9, 'val_loss_regular': 0.0, 'val_acc': 0.011901, 'val_avg_loss': 4.104852}, 'Results_fairness': {'test_total': 66.4, 'val_total': 65.9, 'test_loss_std': 34.435284, 'test_loss_bottom_decile': 235.777477, 'test_loss_top_decile': 326.302094, 'test_loss_regular_std': 0.0, 'test_loss_regular_bottom_decile': 0.0, 'test_loss_regular_top_decile': 0.0, 'test_acc_std': 0.010734, 'test_acc_bottom_decile': 0.0, 'test_acc_top_decile': 0.028169, 'test_avg_loss_std': 0.028741, 'test_avg_loss_bottom_decile': 4.065129, 'test_avg_loss_top_decile': 4.139842, 'val_loss_std': 33.563087, 'val_loss_bottom_decile': 234.050142, 'val_loss_top_decile': 324.183831, 'val_loss_regular_std': 0.0, 'val_loss_regular_bottom_decile': 0.0, 'val_loss_regular_top_decile': 0.0, 'val_acc_std': 0.021139, 'val_acc_bottom_decile': 0.0, 'val_acc_top_decile': 0.071429, 'val_avg_loss_std': 0.019665, 'val_avg_loss_bottom_decile': 4.087523, 'val_avg_loss_top_decile': 4.133373}}\n",
      "2022-08-29 21:56:14,186 (server:386)INFO: Server #0: Final evaluation is finished! Starting merging results.\n",
      "2022-08-29 21:56:14,188 (server:416)INFO: {'Role': 'Server #', 'Round': 'Final', 'Results_raw': {'client_best_individual': {'val_loss_regular': 0.0, 'val_loss': 206.598344, 'test_loss': 205.668097, 'test_total': 50.0, 'test_loss_regular': 0.0, 'test_acc': 0.0, 'test_avg_loss': 4.04271, 'val_total': 50.0, 'val_acc': 0.0, 'val_avg_loss': 4.062206}, 'client_summarized_weighted_avg': {'val_loss_regular': 0.0, 'val_loss': 274.65778, 'test_loss': 276.351399, 'test_total': 66.4, 'test_loss_regular': 0.0, 'test_acc': 0.010542, 'test_avg_loss': 4.096276, 'val_total': 65.9, 'val_acc': 0.01214, 'val_avg_loss': 4.103881}, 'client_summarized_avg': {'val_loss_regular': 0.0, 'val_loss': 270.445749, 'test_loss': 271.992737, 'test_total': 66.4, 'test_loss_regular': 0.0, 'test_acc': 0.009985, 'test_avg_loss': 4.096451, 'val_total': 65.9, 'val_acc': 0.011901, 'val_avg_loss': 4.104852}, 'client_summarized_fairness': {'val_loss_regular_top_decile': 0.0, 'val_loss_regular_bottom_decile': 0.0, 'val_loss_regular_std': 0.0, 'val_loss_top_decile': 324.183831, 'val_loss_bottom_decile': 234.050142, 'val_loss_std': 33.563087, 'test_total': 66.4, 'val_total': 65.9, 'test_loss_std': 34.435284, 'test_loss_bottom_decile': 235.777477, 'test_loss_top_decile': 326.302094, 'test_loss_regular_std': 0.0, 'test_loss_regular_bottom_decile': 0.0, 'test_loss_regular_top_decile': 0.0, 'test_acc_std': 0.010734, 'test_acc_bottom_decile': 0.0, 'test_acc_top_decile': 0.028169, 'test_avg_loss_std': 0.028741, 'test_avg_loss_bottom_decile': 4.065129, 'test_avg_loss_top_decile': 4.139842, 'val_acc_std': 0.021139, 'val_acc_bottom_decile': 0.0, 'val_acc_top_decile': 0.071429, 'val_avg_loss_std': 0.019665, 'val_avg_loss_bottom_decile': 4.087523, 'val_avg_loss_top_decile': 4.133373}}}\n",
      "2022-08-29 21:56:14,191 (server:437)INFO: {'Role': 'Client #1', 'Round': 20, 'Results_raw': {'test_loss': 247.645741, 'test_total': 60, 'test_loss_regular': 0.0, 'test_acc': 0.016667, 'test_avg_loss': 4.127429, 'val_loss': 246.310129, 'val_total': 60, 'val_loss_regular': 0.0, 'val_acc': 0.0, 'val_avg_loss': 4.105169}}\n",
      "2022-08-29 21:56:14,192 (server:437)INFO: {'Role': 'Client #2', 'Round': 20, 'Results_raw': {'test_loss': 287.817187, 'test_total': 70, 'test_loss_regular': 0.0, 'test_acc': 0.0, 'test_avg_loss': 4.111674, 'val_loss': 287.466145, 'val_total': 70, 'val_loss_regular': 0.0, 'val_acc': 0.0, 'val_avg_loss': 4.106659}}\n",
      "2022-08-29 21:56:14,194 (server:437)INFO: {'Role': 'Client #3', 'Round': 20, 'Results_raw': {'test_loss': 304.517647, 'test_total': 74, 'test_loss_regular': 0.0, 'test_acc': 0.0, 'test_avg_loss': 4.115103, 'val_loss': 298.38915, 'val_total': 73, 'val_loss_regular': 0.0, 'val_acc': 0.0, 'val_avg_loss': 4.087523}}\n",
      "2022-08-29 21:56:14,196 (server:437)INFO: {'Role': 'Client #4', 'Round': 20, 'Results_raw': {'test_loss': 250.648, 'test_total': 62, 'test_loss_regular': 0.0, 'test_acc': 0.016129, 'test_avg_loss': 4.04271, 'val_loss': 251.057895, 'val_total': 61, 'val_loss_regular': 0.0, 'val_acc': 0.0, 'val_avg_loss': 4.115703}}\n"
     ]
    },
    {
     "name": "stderr",
     "output_type": "stream",
     "text": [
      "2022-08-29 21:56:14,198 (server:437)INFO: {'Role': 'Client #5', 'Round': 20, 'Results_raw': {'test_loss': 277.36944, 'test_total': 67, 'test_loss_regular': 0.0, 'test_acc': 0.0, 'test_avg_loss': 4.139842, 'val_loss': 274.444575, 'val_total': 67, 'val_loss_regular': 0.0, 'val_acc': 0.014925, 'val_avg_loss': 4.096188}}\n",
      "2022-08-29 21:56:14,200 (server:437)INFO: {'Role': 'Client #6', 'Round': 20, 'Results_raw': {'test_loss': 205.668097, 'test_total': 50, 'test_loss_regular': 0.0, 'test_acc': 0.0, 'test_avg_loss': 4.113362, 'val_loss': 206.598344, 'val_total': 50, 'val_loss_regular': 0.0, 'val_acc': 0.02, 'val_avg_loss': 4.131967}}\n",
      "2022-08-29 21:56:14,202 (server:437)INFO: {'Role': 'Client #7', 'Round': 20, 'Results_raw': {'test_loss': 290.600082, 'test_total': 71, 'test_loss_regular': 0.0, 'test_acc': 0.028169, 'test_avg_loss': 4.092959, 'val_loss': 284.35442, 'val_total': 70, 'val_loss_regular': 0.0, 'val_acc': 0.071429, 'val_avg_loss': 4.062206}}\n",
      "2022-08-29 21:56:14,204 (server:437)INFO: {'Role': 'Client #8', 'Round': 20, 'Results_raw': {'test_loss': 293.581602, 'test_total': 72, 'test_loss_regular': 0.0, 'test_acc': 0.013889, 'test_avg_loss': 4.077522, 'val_loss': 297.602861, 'val_total': 72, 'val_loss_regular': 0.0, 'val_acc': 0.0, 'val_avg_loss': 4.133373}}\n",
      "2022-08-29 21:56:14,206 (server:437)INFO: {'Role': 'Client #9', 'Round': 20, 'Results_raw': {'test_loss': 326.302094, 'test_total': 80, 'test_loss_regular': 0.0, 'test_acc': 0.025, 'test_avg_loss': 4.078776, 'val_loss': 324.183831, 'val_total': 79, 'val_loss_regular': 0.0, 'val_acc': 0.012658, 'val_avg_loss': 4.103593}}\n",
      "2022-08-29 21:56:14,208 (server:437)INFO: {'Role': 'Client #10', 'Round': 20, 'Results_raw': {'test_loss': 235.777477, 'test_total': 58, 'test_loss_regular': 0.0, 'test_acc': 0.0, 'test_avg_loss': 4.065129, 'val_loss': 234.050142, 'val_total': 57, 'val_loss_regular': 0.0, 'val_acc': 0.0, 'val_avg_loss': 4.106143}}\n",
      "2022-08-29 21:56:14,210 (monitor:121)INFO: In worker #0, the system-related metrics are: {'id': 0, 'fl_end_time_minutes': 0.101428, 'total_model_size': 0, 'total_flops': 0, 'total_upload_bytes': 706560, 'total_download_bytes': 531856, 'global_convergence_round': 0, 'local_convergence_round': 0, 'global_convergence_time_minutes': 0, 'local_convergence_time_minutes': 0}\n",
      "2022-08-29 21:56:14,213 (client:440)INFO: ================= client 1 received finish message =================\n",
      "2022-08-29 21:56:14,215 (monitor:121)INFO: In worker #1, the system-related metrics are: {'id': 1, 'fl_end_time_minutes': 0.101295, 'total_model_size': 871294, 'total_flops': 1283617280.0, 'total_upload_bytes': 58360, 'total_download_bytes': 76544, 'global_convergence_round': 0, 'local_convergence_round': 0, 'global_convergence_time_minutes': 0, 'local_convergence_time_minutes': 0}\n",
      "2022-08-29 21:56:14,216 (client:440)INFO: ================= client 2 received finish message =================\n",
      "2022-08-29 21:56:14,220 (monitor:121)INFO: In worker #2, the system-related metrics are: {'id': 2, 'fl_end_time_minutes': 0.100896, 'total_model_size': 871294, 'total_flops': 933539840.0, 'total_upload_bytes': 43120, 'total_download_bytes': 58880, 'global_convergence_round': 0, 'local_convergence_round': 0, 'global_convergence_time_minutes': 0, 'local_convergence_time_minutes': 0}\n",
      "2022-08-29 21:56:14,222 (client:440)INFO: ================= client 3 received finish message =================\n",
      "2022-08-29 21:56:14,225 (monitor:121)INFO: In worker #3, the system-related metrics are: {'id': 3, 'fl_end_time_minutes': 0.100813, 'total_model_size': 871294, 'total_flops': 1517002240.0, 'total_upload_bytes': 68584, 'total_download_bytes': 88320, 'global_convergence_round': 0, 'local_convergence_round': 0, 'global_convergence_time_minutes': 0, 'local_convergence_time_minutes': 0}\n",
      "2022-08-29 21:56:14,227 (client:440)INFO: ================= client 4 received finish message =================\n",
      "2022-08-29 21:56:14,230 (monitor:121)INFO: In worker #4, the system-related metrics are: {'id': 4, 'fl_end_time_minutes': 0.10068, 'total_model_size': 871294, 'total_flops': 583462400.0, 'total_upload_bytes': 27944, 'total_download_bytes': 41216, 'global_convergence_round': 0, 'local_convergence_round': 0, 'global_convergence_time_minutes': 0, 'local_convergence_time_minutes': 0}\n",
      "2022-08-29 21:56:14,231 (client:440)INFO: ================= client 5 received finish message =================\n",
      "2022-08-29 21:56:14,235 (monitor:121)INFO: In worker #5, the system-related metrics are: {'id': 5, 'fl_end_time_minutes': 0.100547, 'total_model_size': 871294, 'total_flops': 1283617280.0, 'total_upload_bytes': 58360, 'total_download_bytes': 76544, 'global_convergence_round': 0, 'local_convergence_round': 0, 'global_convergence_time_minutes': 0, 'local_convergence_time_minutes': 0}\n",
      "2022-08-29 21:56:14,237 (client:440)INFO: ================= client 6 received finish message =================\n",
      "2022-08-29 21:56:14,240 (monitor:121)INFO: In worker #6, the system-related metrics are: {'id': 6, 'fl_end_time_minutes': 0.100447, 'total_model_size': 871294, 'total_flops': 1166924800.0, 'total_upload_bytes': 53280, 'total_download_bytes': 70656, 'global_convergence_round': 0, 'local_convergence_round': 0, 'global_convergence_time_minutes': 0, 'local_convergence_time_minutes': 0}\n",
      "2022-08-29 21:56:14,242 (client:440)INFO: ================= client 7 received finish message =================\n",
      "2022-08-29 21:56:14,245 (monitor:121)INFO: In worker #7, the system-related metrics are: {'id': 7, 'fl_end_time_minutes': 0.100348, 'total_model_size': 871294, 'total_flops': 816847360.0, 'total_upload_bytes': 38104, 'total_download_bytes': 52992, 'global_convergence_round': 0, 'local_convergence_round': 0, 'global_convergence_time_minutes': 0, 'local_convergence_time_minutes': 0}\n",
      "2022-08-29 21:56:14,247 (client:440)INFO: ================= client 8 received finish message =================\n",
      "2022-08-29 21:56:14,250 (monitor:121)INFO: In worker #8, the system-related metrics are: {'id': 8, 'fl_end_time_minutes': 0.100215, 'total_model_size': 871294, 'total_flops': 1517002240.0, 'total_upload_bytes': 68520, 'total_download_bytes': 88320, 'global_convergence_round': 0, 'local_convergence_round': 0, 'global_convergence_time_minutes': 0, 'local_convergence_time_minutes': 0}\n",
      "2022-08-29 21:56:14,252 (client:440)INFO: ================= client 9 received finish message =================\n",
      "2022-08-29 21:56:14,255 (monitor:121)INFO: In worker #9, the system-related metrics are: {'id': 9, 'fl_end_time_minutes': 0.100098, 'total_model_size': 871294, 'total_flops': 1517002240.0, 'total_upload_bytes': 68584, 'total_download_bytes': 88320, 'global_convergence_round': 0, 'local_convergence_round': 0, 'global_convergence_time_minutes': 0, 'local_convergence_time_minutes': 0}\n",
      "2022-08-29 21:56:14,257 (client:440)INFO: ================= client 10 received finish message =================\n",
      "2022-08-29 21:56:14,260 (monitor:121)INFO: In worker #10, the system-related metrics are: {'id': 10, 'fl_end_time_minutes': 0.100015, 'total_model_size': 871294, 'total_flops': 1050232320.0, 'total_upload_bytes': 48264, 'total_download_bytes': 64768, 'global_convergence_round': 0, 'local_convergence_round': 0, 'global_convergence_time_minutes': 0, 'local_convergence_time_minutes': 0}\n",
      "2022-08-29 21:56:14,262 (monitor:278)INFO: We will compress the file eval_results.raw into a .gz file, and delete the old one\n",
      "2022-08-29 21:56:14,279 (monitor:195)INFO: After merging the system metrics from all works, we got avg: defaultdict(None, {'id': 'sys_avg', 'sys_avg/fl_end_time_minutes': 0.100617, 'sys_avg/total_model_size': '773.52K', 'sys_avg/total_flops': '1011.7M', 'sys_avg/total_upload_bytes': '110.06K', 'sys_avg/total_download_bytes': '109.94K', 'sys_avg/global_convergence_round': 0.0, 'sys_avg/local_convergence_round': 0.0, 'sys_avg/global_convergence_time_minutes': 0.0, 'sys_avg/local_convergence_time_minutes': 0.0})\n",
      "2022-08-29 21:56:14,280 (monitor:198)INFO: After merging the system metrics from all works, we got std: defaultdict(None, {'id': 'sys_std', 'sys_std/fl_end_time_minutes': 0.000441, 'sys_std/total_model_size': '244.61K', 'sys_std/total_flops': '422.98M', 'sys_std/total_upload_bytes': '183.81K', 'sys_std/total_download_bytes': '130.27K', 'sys_std/global_convergence_round': 0.0, 'sys_std/local_convergence_round': 0.0, 'sys_std/global_convergence_time_minutes': 0.0, 'sys_std/local_convergence_time_minutes': 0.0})\n"
     ]
    },
    {
     "data": {
      "text/plain": [
       "{'client_best_individual': {'val_loss_regular': 0.0,\n",
       "  'val_loss': 206.59834384918213,\n",
       "  'test_loss': 205.6680965423584,\n",
       "  'test_total': 50.0,\n",
       "  'test_loss_regular': 0.0,\n",
       "  'test_acc': 0.0,\n",
       "  'test_avg_loss': 4.042709681295579,\n",
       "  'val_total': 50.0,\n",
       "  'val_acc': 0.0,\n",
       "  'val_avg_loss': 4.062205995832171},\n",
       " 'client_summarized_weighted_avg': {'val_loss_regular': 0.0,\n",
       "  'val_loss': 274.65778040849744,\n",
       "  'test_loss': 276.35139922600194,\n",
       "  'test_total': 66.4,\n",
       "  'test_loss_regular': 0.0,\n",
       "  'test_acc': 0.010542168674698794,\n",
       "  'test_avg_loss': 4.096276154360139,\n",
       "  'val_total': 65.9,\n",
       "  'val_acc': 0.012139605462822459,\n",
       "  'val_avg_loss': 4.103880867791646},\n",
       " 'client_summarized_avg': {'val_loss_regular': 0.0,\n",
       "  'val_loss': 270.44574918746946,\n",
       "  'test_loss': 271.99273664951323,\n",
       "  'test_total': 66.4,\n",
       "  'test_loss_regular': 0.0,\n",
       "  'test_acc': 0.009985360189812711,\n",
       "  'test_avg_loss': 4.096450669002026,\n",
       "  'val_total': 65.9,\n",
       "  'val_acc': 0.011901217241100106,\n",
       "  'val_avg_loss': 4.104852310339757},\n",
       " 'client_summarized_fairness': {'val_loss_regular_top_decile': 0.0,\n",
       "  'val_loss_regular_bottom_decile': 0.0,\n",
       "  'val_loss_regular_std': 0.0,\n",
       "  'val_loss_top_decile': 324.1838312149048,\n",
       "  'val_loss_bottom_decile': 234.05014181137085,\n",
       "  'val_loss_std': 33.563086658375234,\n",
       "  'test_total': 66.4,\n",
       "  'val_total': 65.9,\n",
       "  'test_loss_std': 34.43528361257844,\n",
       "  'test_loss_bottom_decile': 235.7774772644043,\n",
       "  'test_loss_top_decile': 326.3020944595337,\n",
       "  'test_loss_regular_std': 0.0,\n",
       "  'test_loss_regular_bottom_decile': 0.0,\n",
       "  'test_loss_regular_top_decile': 0.0,\n",
       "  'test_acc_std': 0.010734262281207569,\n",
       "  'test_acc_bottom_decile': 0.0,\n",
       "  'test_acc_top_decile': 0.028169014084507043,\n",
       "  'test_avg_loss_std': 0.02874052137691687,\n",
       "  'test_avg_loss_bottom_decile': 4.065128918351798,\n",
       "  'test_avg_loss_top_decile': 4.139842389234856,\n",
       "  'val_acc_std': 0.021139178303759405,\n",
       "  'val_acc_bottom_decile': 0.0,\n",
       "  'val_acc_top_decile': 0.07142857142857142,\n",
       "  'val_avg_loss_std': 0.01966493102498244,\n",
       "  'val_avg_loss_bottom_decile': 4.0875225981620895,\n",
       "  'val_avg_loss_top_decile': 4.133373075061375}}"
      ]
     },
     "execution_count": 7,
     "metadata": {},
     "output_type": "execute_result"
    }
   ],
   "source": [
    "from federatedscope.core.fed_runner import FedRunner\n",
    "from federatedscope.core.auxiliaries.worker_builder import get_server_cls, get_client_cls\n",
    "\n",
    "Fed_runner = FedRunner(data=data,\n",
    "                       server_class=get_server_cls(cfg),\n",
    "                       client_class=get_client_cls(cfg),\n",
    "                       config=cfg.clone())\n",
    "Fed_runner.run()"
   ]
  },
  {
   "cell_type": "markdown",
   "metadata": {
    "pycharm": {
     "name": "#%% md\n"
    }
   },
   "source": [
    "Congratulations, you've learned how to run a complete FL process. Next you can modify `cfg` to try out different built-in features in **FederatedScope**, or you can continue to learn [02. Start your own case](./02_start_your_own_case.ipynb)."
   ]
  },
  {
   "cell_type": "code",
   "execution_count": null,
   "metadata": {
    "pycharm": {
     "name": "#%%\n"
    }
   },
   "outputs": [],
   "source": []
  }
 ],
 "metadata": {
  "kernelspec": {
   "display_name": "fsc",
   "language": "python",
   "name": "fsc"
  },
  "language_info": {
   "codemirror_mode": {
    "name": "ipython",
    "version": 3
   },
   "file_extension": ".py",
   "mimetype": "text/x-python",
   "name": "python",
   "nbconvert_exporter": "python",
   "pygments_lexer": "ipython3",
   "version": "3.9.0"
  }
 },
 "nbformat": 4,
 "nbformat_minor": 4
}
